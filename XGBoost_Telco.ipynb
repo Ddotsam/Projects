{
  "nbformat": 4,
  "nbformat_minor": 0,
  "metadata": {
    "colab": {
      "provenance": []
    },
    "kernelspec": {
      "name": "python3",
      "display_name": "Python 3"
    },
    "language_info": {
      "name": "python"
    }
  },
  "cells": [
    {
      "cell_type": "code",
      "execution_count": null,
      "metadata": {
        "id": "sM7nWDnUHxG8"
      },
      "outputs": [],
      "source": [
        "import numpy as np\n",
        "\n",
        "from scipy.stats import uniform, randint\n",
        "\n",
        "#from sklearn.datasets import load_breast_cancer, load_diabetes, load_wine\n",
        "from sklearn.metrics import auc, accuracy_score, confusion_matrix, mean_squared_error, balanced_accuracy_score, roc_auc_score, make_scorer, plot_confusion_matrix\n",
        "from sklearn.model_selection import cross_val_score, GridSearchCV, KFold, RandomizedSearchCV, train_test_split\n",
        "\n",
        "import xgboost as xgb\n",
        "import pandas as pd"
      ]
    },
    {
      "cell_type": "code",
      "source": [
        "df = pd.read_csv('Telco.csv')"
      ],
      "metadata": {
        "id": "Z8I4xN6kx5CB"
      },
      "execution_count": null,
      "outputs": []
    },
    {
      "cell_type": "code",
      "source": [
        "df.head()"
      ],
      "metadata": {
        "id": "4i7xnkTdIseI",
        "colab": {
          "base_uri": "https://localhost:8080/",
          "height": 386
        },
        "outputId": "b52fc83d-8eea-4595-c441-a5c835977e72"
      },
      "execution_count": null,
      "outputs": [
        {
          "output_type": "execute_result",
          "data": {
            "text/plain": [
              "   customerID  gender  SeniorCitizen Partner Dependents  tenure PhoneService  \\\n",
              "0  7590-VHVEG  Female              0     Yes         No       1           No   \n",
              "1  5575-GNVDE    Male              0      No         No      34          Yes   \n",
              "2  3668-QPYBK    Male              0      No         No       2          Yes   \n",
              "3  7795-CFOCW    Male              0      No         No      45           No   \n",
              "4  9237-HQITU  Female              0      No         No       2          Yes   \n",
              "\n",
              "      MultipleLines InternetService OnlineSecurity  ... DeviceProtection  \\\n",
              "0  No phone service             DSL             No  ...               No   \n",
              "1                No             DSL            Yes  ...              Yes   \n",
              "2                No             DSL            Yes  ...               No   \n",
              "3  No phone service             DSL            Yes  ...              Yes   \n",
              "4                No     Fiber optic             No  ...               No   \n",
              "\n",
              "  TechSupport StreamingTV StreamingMovies        Contract PaperlessBilling  \\\n",
              "0          No          No              No  Month-to-month              Yes   \n",
              "1          No          No              No        One year               No   \n",
              "2          No          No              No  Month-to-month              Yes   \n",
              "3         Yes          No              No        One year               No   \n",
              "4          No          No              No  Month-to-month              Yes   \n",
              "\n",
              "               PaymentMethod MonthlyCharges  TotalCharges Churn  \n",
              "0           Electronic check          29.85         29.85    No  \n",
              "1               Mailed check          56.95        1889.5    No  \n",
              "2               Mailed check          53.85        108.15   Yes  \n",
              "3  Bank transfer (automatic)          42.30       1840.75    No  \n",
              "4           Electronic check          70.70        151.65   Yes  \n",
              "\n",
              "[5 rows x 21 columns]"
            ],
            "text/html": [
              "\n",
              "  <div id=\"df-14d6e86a-c243-4371-84c3-d0f5c8cfdc2f\">\n",
              "    <div class=\"colab-df-container\">\n",
              "      <div>\n",
              "<style scoped>\n",
              "    .dataframe tbody tr th:only-of-type {\n",
              "        vertical-align: middle;\n",
              "    }\n",
              "\n",
              "    .dataframe tbody tr th {\n",
              "        vertical-align: top;\n",
              "    }\n",
              "\n",
              "    .dataframe thead th {\n",
              "        text-align: right;\n",
              "    }\n",
              "</style>\n",
              "<table border=\"1\" class=\"dataframe\">\n",
              "  <thead>\n",
              "    <tr style=\"text-align: right;\">\n",
              "      <th></th>\n",
              "      <th>customerID</th>\n",
              "      <th>gender</th>\n",
              "      <th>SeniorCitizen</th>\n",
              "      <th>Partner</th>\n",
              "      <th>Dependents</th>\n",
              "      <th>tenure</th>\n",
              "      <th>PhoneService</th>\n",
              "      <th>MultipleLines</th>\n",
              "      <th>InternetService</th>\n",
              "      <th>OnlineSecurity</th>\n",
              "      <th>...</th>\n",
              "      <th>DeviceProtection</th>\n",
              "      <th>TechSupport</th>\n",
              "      <th>StreamingTV</th>\n",
              "      <th>StreamingMovies</th>\n",
              "      <th>Contract</th>\n",
              "      <th>PaperlessBilling</th>\n",
              "      <th>PaymentMethod</th>\n",
              "      <th>MonthlyCharges</th>\n",
              "      <th>TotalCharges</th>\n",
              "      <th>Churn</th>\n",
              "    </tr>\n",
              "  </thead>\n",
              "  <tbody>\n",
              "    <tr>\n",
              "      <th>0</th>\n",
              "      <td>7590-VHVEG</td>\n",
              "      <td>Female</td>\n",
              "      <td>0</td>\n",
              "      <td>Yes</td>\n",
              "      <td>No</td>\n",
              "      <td>1</td>\n",
              "      <td>No</td>\n",
              "      <td>No phone service</td>\n",
              "      <td>DSL</td>\n",
              "      <td>No</td>\n",
              "      <td>...</td>\n",
              "      <td>No</td>\n",
              "      <td>No</td>\n",
              "      <td>No</td>\n",
              "      <td>No</td>\n",
              "      <td>Month-to-month</td>\n",
              "      <td>Yes</td>\n",
              "      <td>Electronic check</td>\n",
              "      <td>29.85</td>\n",
              "      <td>29.85</td>\n",
              "      <td>No</td>\n",
              "    </tr>\n",
              "    <tr>\n",
              "      <th>1</th>\n",
              "      <td>5575-GNVDE</td>\n",
              "      <td>Male</td>\n",
              "      <td>0</td>\n",
              "      <td>No</td>\n",
              "      <td>No</td>\n",
              "      <td>34</td>\n",
              "      <td>Yes</td>\n",
              "      <td>No</td>\n",
              "      <td>DSL</td>\n",
              "      <td>Yes</td>\n",
              "      <td>...</td>\n",
              "      <td>Yes</td>\n",
              "      <td>No</td>\n",
              "      <td>No</td>\n",
              "      <td>No</td>\n",
              "      <td>One year</td>\n",
              "      <td>No</td>\n",
              "      <td>Mailed check</td>\n",
              "      <td>56.95</td>\n",
              "      <td>1889.5</td>\n",
              "      <td>No</td>\n",
              "    </tr>\n",
              "    <tr>\n",
              "      <th>2</th>\n",
              "      <td>3668-QPYBK</td>\n",
              "      <td>Male</td>\n",
              "      <td>0</td>\n",
              "      <td>No</td>\n",
              "      <td>No</td>\n",
              "      <td>2</td>\n",
              "      <td>Yes</td>\n",
              "      <td>No</td>\n",
              "      <td>DSL</td>\n",
              "      <td>Yes</td>\n",
              "      <td>...</td>\n",
              "      <td>No</td>\n",
              "      <td>No</td>\n",
              "      <td>No</td>\n",
              "      <td>No</td>\n",
              "      <td>Month-to-month</td>\n",
              "      <td>Yes</td>\n",
              "      <td>Mailed check</td>\n",
              "      <td>53.85</td>\n",
              "      <td>108.15</td>\n",
              "      <td>Yes</td>\n",
              "    </tr>\n",
              "    <tr>\n",
              "      <th>3</th>\n",
              "      <td>7795-CFOCW</td>\n",
              "      <td>Male</td>\n",
              "      <td>0</td>\n",
              "      <td>No</td>\n",
              "      <td>No</td>\n",
              "      <td>45</td>\n",
              "      <td>No</td>\n",
              "      <td>No phone service</td>\n",
              "      <td>DSL</td>\n",
              "      <td>Yes</td>\n",
              "      <td>...</td>\n",
              "      <td>Yes</td>\n",
              "      <td>Yes</td>\n",
              "      <td>No</td>\n",
              "      <td>No</td>\n",
              "      <td>One year</td>\n",
              "      <td>No</td>\n",
              "      <td>Bank transfer (automatic)</td>\n",
              "      <td>42.30</td>\n",
              "      <td>1840.75</td>\n",
              "      <td>No</td>\n",
              "    </tr>\n",
              "    <tr>\n",
              "      <th>4</th>\n",
              "      <td>9237-HQITU</td>\n",
              "      <td>Female</td>\n",
              "      <td>0</td>\n",
              "      <td>No</td>\n",
              "      <td>No</td>\n",
              "      <td>2</td>\n",
              "      <td>Yes</td>\n",
              "      <td>No</td>\n",
              "      <td>Fiber optic</td>\n",
              "      <td>No</td>\n",
              "      <td>...</td>\n",
              "      <td>No</td>\n",
              "      <td>No</td>\n",
              "      <td>No</td>\n",
              "      <td>No</td>\n",
              "      <td>Month-to-month</td>\n",
              "      <td>Yes</td>\n",
              "      <td>Electronic check</td>\n",
              "      <td>70.70</td>\n",
              "      <td>151.65</td>\n",
              "      <td>Yes</td>\n",
              "    </tr>\n",
              "  </tbody>\n",
              "</table>\n",
              "<p>5 rows × 21 columns</p>\n",
              "</div>\n",
              "      <button class=\"colab-df-convert\" onclick=\"convertToInteractive('df-14d6e86a-c243-4371-84c3-d0f5c8cfdc2f')\"\n",
              "              title=\"Convert this dataframe to an interactive table.\"\n",
              "              style=\"display:none;\">\n",
              "        \n",
              "  <svg xmlns=\"http://www.w3.org/2000/svg\" height=\"24px\"viewBox=\"0 0 24 24\"\n",
              "       width=\"24px\">\n",
              "    <path d=\"M0 0h24v24H0V0z\" fill=\"none\"/>\n",
              "    <path d=\"M18.56 5.44l.94 2.06.94-2.06 2.06-.94-2.06-.94-.94-2.06-.94 2.06-2.06.94zm-11 1L8.5 8.5l.94-2.06 2.06-.94-2.06-.94L8.5 2.5l-.94 2.06-2.06.94zm10 10l.94 2.06.94-2.06 2.06-.94-2.06-.94-.94-2.06-.94 2.06-2.06.94z\"/><path d=\"M17.41 7.96l-1.37-1.37c-.4-.4-.92-.59-1.43-.59-.52 0-1.04.2-1.43.59L10.3 9.45l-7.72 7.72c-.78.78-.78 2.05 0 2.83L4 21.41c.39.39.9.59 1.41.59.51 0 1.02-.2 1.41-.59l7.78-7.78 2.81-2.81c.8-.78.8-2.07 0-2.86zM5.41 20L4 18.59l7.72-7.72 1.47 1.35L5.41 20z\"/>\n",
              "  </svg>\n",
              "      </button>\n",
              "      \n",
              "  <style>\n",
              "    .colab-df-container {\n",
              "      display:flex;\n",
              "      flex-wrap:wrap;\n",
              "      gap: 12px;\n",
              "    }\n",
              "\n",
              "    .colab-df-convert {\n",
              "      background-color: #E8F0FE;\n",
              "      border: none;\n",
              "      border-radius: 50%;\n",
              "      cursor: pointer;\n",
              "      display: none;\n",
              "      fill: #1967D2;\n",
              "      height: 32px;\n",
              "      padding: 0 0 0 0;\n",
              "      width: 32px;\n",
              "    }\n",
              "\n",
              "    .colab-df-convert:hover {\n",
              "      background-color: #E2EBFA;\n",
              "      box-shadow: 0px 1px 2px rgba(60, 64, 67, 0.3), 0px 1px 3px 1px rgba(60, 64, 67, 0.15);\n",
              "      fill: #174EA6;\n",
              "    }\n",
              "\n",
              "    [theme=dark] .colab-df-convert {\n",
              "      background-color: #3B4455;\n",
              "      fill: #D2E3FC;\n",
              "    }\n",
              "\n",
              "    [theme=dark] .colab-df-convert:hover {\n",
              "      background-color: #434B5C;\n",
              "      box-shadow: 0px 1px 3px 1px rgba(0, 0, 0, 0.15);\n",
              "      filter: drop-shadow(0px 1px 2px rgba(0, 0, 0, 0.3));\n",
              "      fill: #FFFFFF;\n",
              "    }\n",
              "  </style>\n",
              "\n",
              "      <script>\n",
              "        const buttonEl =\n",
              "          document.querySelector('#df-14d6e86a-c243-4371-84c3-d0f5c8cfdc2f button.colab-df-convert');\n",
              "        buttonEl.style.display =\n",
              "          google.colab.kernel.accessAllowed ? 'block' : 'none';\n",
              "\n",
              "        async function convertToInteractive(key) {\n",
              "          const element = document.querySelector('#df-14d6e86a-c243-4371-84c3-d0f5c8cfdc2f');\n",
              "          const dataTable =\n",
              "            await google.colab.kernel.invokeFunction('convertToInteractive',\n",
              "                                                     [key], {});\n",
              "          if (!dataTable) return;\n",
              "\n",
              "          const docLinkHtml = 'Like what you see? Visit the ' +\n",
              "            '<a target=\"_blank\" href=https://colab.research.google.com/notebooks/data_table.ipynb>data table notebook</a>'\n",
              "            + ' to learn more about interactive tables.';\n",
              "          element.innerHTML = '';\n",
              "          dataTable['output_type'] = 'display_data';\n",
              "          await google.colab.output.renderOutput(dataTable, element);\n",
              "          const docLink = document.createElement('div');\n",
              "          docLink.innerHTML = docLinkHtml;\n",
              "          element.appendChild(docLink);\n",
              "        }\n",
              "      </script>\n",
              "    </div>\n",
              "  </div>\n",
              "  "
            ]
          },
          "metadata": {},
          "execution_count": 16
        }
      ]
    },
    {
      "cell_type": "code",
      "source": [
        "#Cust ID doesn't really do anything for us. We don't want to predict anything off of the ID that we assign them.\n",
        "df.drop(['customerID'],\n",
        "        axis = 1, inplace = True)"
      ],
      "metadata": {
        "id": "FsnUmuvw1KnS"
      },
      "execution_count": null,
      "outputs": []
    },
    {
      "cell_type": "code",
      "source": [
        "#Lets save the names of all the columns in names for now\n",
        "names = list(df)\n",
        "print(names)"
      ],
      "metadata": {
        "colab": {
          "base_uri": "https://localhost:8080/"
        },
        "id": "3PcDqysAzKHR",
        "outputId": "073c11fb-09ab-4063-dcc0-9eb158b0add4"
      },
      "execution_count": null,
      "outputs": [
        {
          "output_type": "stream",
          "name": "stdout",
          "text": [
            "['gender', 'SeniorCitizen', 'Partner', 'Dependents', 'tenure', 'PhoneService', 'MultipleLines', 'InternetService', 'OnlineSecurity', 'OnlineBackup', 'DeviceProtection', 'TechSupport', 'StreamingTV', 'StreamingMovies', 'Contract', 'PaperlessBilling', 'PaymentMethod', 'MonthlyCharges', 'TotalCharges', 'Churn']\n"
          ]
        }
      ]
    },
    {
      "cell_type": "code",
      "source": [
        "#Getting rid of white space helps with printing out the final tree so that we can see the effects nicely. In reality, this isn't important if all you are doing is predicting.\n",
        "#I also don't want the senior citezens to be denoted by 0 or 1. This is for the one hot encoding later.\n",
        "df['SeniorCitizen'].replace(0, 'False', regex = True, inplace = True)\n",
        "df['SeniorCitizen'].replace(1, 'True', regex = True, inplace = True)\n",
        "df.replace(' ', '_', regex = True, inplace = True)\n",
        "print(df['InternetService'].unique(),\n",
        "      df['SeniorCitizen'].unique())"
      ],
      "metadata": {
        "colab": {
          "base_uri": "https://localhost:8080/"
        },
        "id": "egQtIqhG1kkX",
        "outputId": "cec2cf53-b1f8-485c-f019-3380e132d5a9"
      },
      "execution_count": null,
      "outputs": [
        {
          "output_type": "execute_result",
          "data": {
            "text/plain": [
              "array(['DSL', 'Fiber_optic', 'No'], dtype=object)"
            ]
          },
          "metadata": {},
          "execution_count": 59
        }
      ]
    },
    {
      "cell_type": "code",
      "source": [
        "#Let's check to see if there any NaNs and what types of data we are working with\n",
        "print(\"Sum of NaNs: {}\\n\\nTypes:\\n{}\".format(df.isnull().values.sum(), df.dtypes))"
      ],
      "metadata": {
        "colab": {
          "base_uri": "https://localhost:8080/"
        },
        "id": "7baXWixx1TEm",
        "outputId": "ef41de86-4f71-473f-845b-cddd5f2fd443"
      },
      "execution_count": null,
      "outputs": [
        {
          "output_type": "stream",
          "name": "stdout",
          "text": [
            "Sum of NaNs: 0\n",
            "\n",
            "Types:\n",
            "gender               object\n",
            "SeniorCitizen         int64\n",
            "Partner              object\n",
            "Dependents           object\n",
            "tenure                int64\n",
            "PhoneService         object\n",
            "MultipleLines        object\n",
            "InternetService      object\n",
            "OnlineSecurity       object\n",
            "OnlineBackup         object\n",
            "DeviceProtection     object\n",
            "TechSupport          object\n",
            "StreamingTV          object\n",
            "StreamingMovies      object\n",
            "Contract             object\n",
            "PaperlessBilling     object\n",
            "PaymentMethod        object\n",
            "MonthlyCharges      float64\n",
            "TotalCharges         object\n",
            "Churn                object\n",
            "dtype: object\n"
          ]
        }
      ]
    },
    {
      "cell_type": "code",
      "source": [
        "#Let's make sure that the data in the columns is what we would expect.\n",
        "for name in names:\n",
        "  print(name, df[name].unique())"
      ],
      "metadata": {
        "colab": {
          "base_uri": "https://localhost:8080/"
        },
        "id": "WwN--N8T3Awf",
        "outputId": "324d455a-f427-4c78-e0c1-07a3a3ec701e"
      },
      "execution_count": null,
      "outputs": [
        {
          "output_type": "stream",
          "name": "stdout",
          "text": [
            "gender ['Female' 'Male']\n",
            "SeniorCitizen [0 1]\n",
            "Partner ['Yes' 'No']\n",
            "Dependents ['No' 'Yes']\n",
            "tenure [ 1 34  2 45  8 22 10 28 62 13 16 58 49 25 69 52 71 21 12 30 47 72 17 27\n",
            "  5 46 11 70 63 43 15 60 18 66  9  3 31 50 64 56  7 42 35 48 29 65 38 68\n",
            " 32 55 37 36 41  6  4 33 67 23 57 61 14 20 53 40 59 24 44 19 54 51 26  0\n",
            " 39]\n",
            "PhoneService ['No' 'Yes']\n",
            "MultipleLines ['No_phone_service' 'No' 'Yes']\n",
            "InternetService ['DSL' 'Fiber_optic' 'No']\n",
            "OnlineSecurity ['No' 'Yes' 'No_internet_service']\n",
            "OnlineBackup ['Yes' 'No' 'No_internet_service']\n",
            "DeviceProtection ['No' 'Yes' 'No_internet_service']\n",
            "TechSupport ['No' 'Yes' 'No_internet_service']\n",
            "StreamingTV ['No' 'Yes' 'No_internet_service']\n",
            "StreamingMovies ['No' 'Yes' 'No_internet_service']\n",
            "Contract ['Month-to-month' 'One_year' 'Two_year']\n",
            "PaperlessBilling ['Yes' 'No']\n",
            "PaymentMethod ['Electronic_check' 'Mailed_check' 'Bank_transfer_(automatic)'\n",
            " 'Credit_card_(automatic)']\n",
            "MonthlyCharges [29.85 56.95 53.85 ... 63.1  44.2  78.7 ]\n",
            "TotalCharges ['29.85' '1889.5' '108.15' ... '346.45' '306.6' '6844.5']\n",
            "Churn ['No' 'Yes']\n"
          ]
        }
      ]
    },
    {
      "cell_type": "code",
      "source": [
        "#Notice that TotalCharges are actually an object type instead of a numeric. We should try to change it to numeric.\n",
        "df['TotalCharges'] = pd.to_numeric(df['TotalCharges'])\n",
        "#ValueError: Unable to parse string \"_\" at position 488"
      ],
      "metadata": {
        "colab": {
          "base_uri": "https://localhost:8080/",
          "height": 293
        },
        "id": "6F90xYRF38m9",
        "outputId": "1fe09897-8338-4e16-c08c-33f4e1a5e3ea"
      },
      "execution_count": null,
      "outputs": [
        {
          "output_type": "error",
          "ename": "ValueError",
          "evalue": "ignored",
          "traceback": [
            "\u001b[0;31m---------------------------------------------------------------------------\u001b[0m",
            "\u001b[0;31mValueError\u001b[0m                                Traceback (most recent call last)",
            "\u001b[0;32m/usr/local/lib/python3.7/dist-packages/pandas/_libs/lib.pyx\u001b[0m in \u001b[0;36mpandas._libs.lib.maybe_convert_numeric\u001b[0;34m()\u001b[0m\n",
            "\u001b[0;31mValueError\u001b[0m: Unable to parse string \"_\"",
            "\nDuring handling of the above exception, another exception occurred:\n",
            "\u001b[0;31mValueError\u001b[0m                                Traceback (most recent call last)",
            "\u001b[0;32m<ipython-input-60-ae4dbb6bdbb7>\u001b[0m in \u001b[0;36m<module>\u001b[0;34m\u001b[0m\n\u001b[1;32m      1\u001b[0m \u001b[0;31m#Notice that TotalCharges are actually an object type instead of a numeric. We should try to change it to numeric.\u001b[0m\u001b[0;34m\u001b[0m\u001b[0;34m\u001b[0m\u001b[0;34m\u001b[0m\u001b[0m\n\u001b[0;32m----> 2\u001b[0;31m \u001b[0mdf\u001b[0m\u001b[0;34m[\u001b[0m\u001b[0;34m'TotalCharges'\u001b[0m\u001b[0;34m]\u001b[0m \u001b[0;34m=\u001b[0m \u001b[0mpd\u001b[0m\u001b[0;34m.\u001b[0m\u001b[0mto_numeric\u001b[0m\u001b[0;34m(\u001b[0m\u001b[0mdf\u001b[0m\u001b[0;34m[\u001b[0m\u001b[0;34m'TotalCharges'\u001b[0m\u001b[0;34m]\u001b[0m\u001b[0;34m)\u001b[0m\u001b[0;34m\u001b[0m\u001b[0;34m\u001b[0m\u001b[0m\n\u001b[0m\u001b[1;32m      3\u001b[0m \u001b[0;31m#ValueError: Unable to parse string \"_\" at position 488\u001b[0m\u001b[0;34m\u001b[0m\u001b[0;34m\u001b[0m\u001b[0;34m\u001b[0m\u001b[0m\n",
            "\u001b[0;32m/usr/local/lib/python3.7/dist-packages/pandas/core/tools/numeric.py\u001b[0m in \u001b[0;36mto_numeric\u001b[0;34m(arg, errors, downcast)\u001b[0m\n\u001b[1;32m    182\u001b[0m         \u001b[0;32mtry\u001b[0m\u001b[0;34m:\u001b[0m\u001b[0;34m\u001b[0m\u001b[0;34m\u001b[0m\u001b[0m\n\u001b[1;32m    183\u001b[0m             values, _ = lib.maybe_convert_numeric(\n\u001b[0;32m--> 184\u001b[0;31m                 \u001b[0mvalues\u001b[0m\u001b[0;34m,\u001b[0m \u001b[0mset\u001b[0m\u001b[0;34m(\u001b[0m\u001b[0;34m)\u001b[0m\u001b[0;34m,\u001b[0m \u001b[0mcoerce_numeric\u001b[0m\u001b[0;34m=\u001b[0m\u001b[0mcoerce_numeric\u001b[0m\u001b[0;34m\u001b[0m\u001b[0;34m\u001b[0m\u001b[0m\n\u001b[0m\u001b[1;32m    185\u001b[0m             )\n\u001b[1;32m    186\u001b[0m         \u001b[0;32mexcept\u001b[0m \u001b[0;34m(\u001b[0m\u001b[0mValueError\u001b[0m\u001b[0;34m,\u001b[0m \u001b[0mTypeError\u001b[0m\u001b[0;34m)\u001b[0m\u001b[0;34m:\u001b[0m\u001b[0;34m\u001b[0m\u001b[0;34m\u001b[0m\u001b[0m\n",
            "\u001b[0;32m/usr/local/lib/python3.7/dist-packages/pandas/_libs/lib.pyx\u001b[0m in \u001b[0;36mpandas._libs.lib.maybe_convert_numeric\u001b[0;34m()\u001b[0m\n",
            "\u001b[0;31mValueError\u001b[0m: Unable to parse string \"_\" at position 488"
          ]
        }
      ]
    },
    {
      "cell_type": "code",
      "source": [
        "#Let's try finding the number of rows that don't have a value in them\n",
        "len(df.loc[df['TotalCharges'] == '_']) \n",
        "#Since there are only 11 of them, we are going to just set these to 0."
      ],
      "metadata": {
        "colab": {
          "base_uri": "https://localhost:8080/"
        },
        "id": "zWcPNotz5SZz",
        "outputId": "6b5d89ee-350a-4463-b8fb-fa9d6c03f5d0"
      },
      "execution_count": null,
      "outputs": [
        {
          "output_type": "execute_result",
          "data": {
            "text/plain": [
              "11"
            ]
          },
          "metadata": {},
          "execution_count": 61
        }
      ]
    },
    {
      "cell_type": "code",
      "source": [
        "#Set the values to 0\n",
        "df.loc[(df['TotalCharges'] == '_'), 'TotalCharges'] = 0"
      ],
      "metadata": {
        "id": "oY1_fvCt7b-K"
      },
      "execution_count": null,
      "outputs": []
    },
    {
      "cell_type": "code",
      "source": [
        "#Running it again, notice that we are good to go! 'TotalCharges' are now a numeric column\n",
        "df['TotalCharges'] = pd.to_numeric(df['TotalCharges'])\n",
        "df['TotalCharges'].dtypes"
      ],
      "metadata": {
        "colab": {
          "base_uri": "https://localhost:8080/"
        },
        "id": "hNAzwzcE5qDx",
        "outputId": "dcbd52a2-4a0f-4551-f52b-6b56e73d0b76"
      },
      "execution_count": null,
      "outputs": [
        {
          "output_type": "execute_result",
          "data": {
            "text/plain": [
              "dtype('float64')"
            ]
          },
          "metadata": {},
          "execution_count": 63
        }
      ]
    },
    {
      "cell_type": "code",
      "source": [
        "target = df['Churn'].copy()\n",
        "features = df.drop('Churn', axis = 1).copy()"
      ],
      "metadata": {
        "id": "f8weNR3Y8Lo3"
      },
      "execution_count": null,
      "outputs": []
    },
    {
      "cell_type": "markdown",
      "source": [
        "One-Hot Encoding"
      ],
      "metadata": {
        "id": "UZmLfiO68yCc"
      }
    },
    {
      "cell_type": "code",
      "source": [
        "#Notice that we have a lot of categorical data. We need to change these to get something XGBoost can work with.\n",
        "#This trick is called \"One-Hot Encoding\"\n",
        "features.dtypes"
      ],
      "metadata": {
        "colab": {
          "base_uri": "https://localhost:8080/"
        },
        "id": "MQnPqIqi8z5Y",
        "outputId": "ffb03468-ff0d-4848-a9e9-4fd36baca0d8"
      },
      "execution_count": null,
      "outputs": [
        {
          "output_type": "execute_result",
          "data": {
            "text/plain": [
              "gender               object\n",
              "SeniorCitizen         int64\n",
              "Partner              object\n",
              "Dependents           object\n",
              "tenure                int64\n",
              "PhoneService         object\n",
              "MultipleLines        object\n",
              "InternetService      object\n",
              "OnlineSecurity       object\n",
              "OnlineBackup         object\n",
              "DeviceProtection     object\n",
              "TechSupport          object\n",
              "StreamingTV          object\n",
              "StreamingMovies      object\n",
              "Contract             object\n",
              "PaperlessBilling     object\n",
              "PaymentMethod        object\n",
              "MonthlyCharges      float64\n",
              "TotalCharges        float64\n",
              "dtype: object"
            ]
          },
          "metadata": {},
          "execution_count": 68
        }
      ]
    },
    {
      "cell_type": "code",
      "source": [
        "target_names = list(target)\n",
        "feature_names = list(features)"
      ],
      "metadata": {
        "id": "HEUswAH-91ym"
      },
      "execution_count": null,
      "outputs": []
    },
    {
      "cell_type": "code",
      "source": [
        "#Notice that this will change gender into two other columns (based off how many unique responses there were) so that we can tell what is going on.\n",
        "pd.get_dummies(features, columns = ['gender']).head()"
      ],
      "metadata": {
        "colab": {
          "base_uri": "https://localhost:8080/",
          "height": 322
        },
        "id": "IEfABYn_9R4b",
        "outputId": "b535918f-0656-4b3e-d399-6ef7a8109f1e"
      },
      "execution_count": null,
      "outputs": [
        {
          "output_type": "execute_result",
          "data": {
            "text/plain": [
              "   SeniorCitizen Partner Dependents  tenure PhoneService     MultipleLines  \\\n",
              "0              0     Yes         No       1           No  No_phone_service   \n",
              "1              0      No         No      34          Yes                No   \n",
              "2              0      No         No       2          Yes                No   \n",
              "3              0      No         No      45           No  No_phone_service   \n",
              "4              0      No         No       2          Yes                No   \n",
              "\n",
              "  InternetService OnlineSecurity OnlineBackup DeviceProtection TechSupport  \\\n",
              "0             DSL             No          Yes               No          No   \n",
              "1             DSL            Yes           No              Yes          No   \n",
              "2             DSL            Yes          Yes               No          No   \n",
              "3             DSL            Yes           No              Yes         Yes   \n",
              "4     Fiber_optic             No           No               No          No   \n",
              "\n",
              "  StreamingTV StreamingMovies        Contract PaperlessBilling  \\\n",
              "0          No              No  Month-to-month              Yes   \n",
              "1          No              No        One_year               No   \n",
              "2          No              No  Month-to-month              Yes   \n",
              "3          No              No        One_year               No   \n",
              "4          No              No  Month-to-month              Yes   \n",
              "\n",
              "               PaymentMethod  MonthlyCharges  TotalCharges  gender_Female  \\\n",
              "0           Electronic_check           29.85         29.85              1   \n",
              "1               Mailed_check           56.95       1889.50              0   \n",
              "2               Mailed_check           53.85        108.15              0   \n",
              "3  Bank_transfer_(automatic)           42.30       1840.75              0   \n",
              "4           Electronic_check           70.70        151.65              1   \n",
              "\n",
              "   gender_Male  \n",
              "0            0  \n",
              "1            1  \n",
              "2            1  \n",
              "3            1  \n",
              "4            0  "
            ],
            "text/html": [
              "\n",
              "  <div id=\"df-fa598dd6-c971-4b02-bb8c-2f060e16288e\">\n",
              "    <div class=\"colab-df-container\">\n",
              "      <div>\n",
              "<style scoped>\n",
              "    .dataframe tbody tr th:only-of-type {\n",
              "        vertical-align: middle;\n",
              "    }\n",
              "\n",
              "    .dataframe tbody tr th {\n",
              "        vertical-align: top;\n",
              "    }\n",
              "\n",
              "    .dataframe thead th {\n",
              "        text-align: right;\n",
              "    }\n",
              "</style>\n",
              "<table border=\"1\" class=\"dataframe\">\n",
              "  <thead>\n",
              "    <tr style=\"text-align: right;\">\n",
              "      <th></th>\n",
              "      <th>SeniorCitizen</th>\n",
              "      <th>Partner</th>\n",
              "      <th>Dependents</th>\n",
              "      <th>tenure</th>\n",
              "      <th>PhoneService</th>\n",
              "      <th>MultipleLines</th>\n",
              "      <th>InternetService</th>\n",
              "      <th>OnlineSecurity</th>\n",
              "      <th>OnlineBackup</th>\n",
              "      <th>DeviceProtection</th>\n",
              "      <th>TechSupport</th>\n",
              "      <th>StreamingTV</th>\n",
              "      <th>StreamingMovies</th>\n",
              "      <th>Contract</th>\n",
              "      <th>PaperlessBilling</th>\n",
              "      <th>PaymentMethod</th>\n",
              "      <th>MonthlyCharges</th>\n",
              "      <th>TotalCharges</th>\n",
              "      <th>gender_Female</th>\n",
              "      <th>gender_Male</th>\n",
              "    </tr>\n",
              "  </thead>\n",
              "  <tbody>\n",
              "    <tr>\n",
              "      <th>0</th>\n",
              "      <td>0</td>\n",
              "      <td>Yes</td>\n",
              "      <td>No</td>\n",
              "      <td>1</td>\n",
              "      <td>No</td>\n",
              "      <td>No_phone_service</td>\n",
              "      <td>DSL</td>\n",
              "      <td>No</td>\n",
              "      <td>Yes</td>\n",
              "      <td>No</td>\n",
              "      <td>No</td>\n",
              "      <td>No</td>\n",
              "      <td>No</td>\n",
              "      <td>Month-to-month</td>\n",
              "      <td>Yes</td>\n",
              "      <td>Electronic_check</td>\n",
              "      <td>29.85</td>\n",
              "      <td>29.85</td>\n",
              "      <td>1</td>\n",
              "      <td>0</td>\n",
              "    </tr>\n",
              "    <tr>\n",
              "      <th>1</th>\n",
              "      <td>0</td>\n",
              "      <td>No</td>\n",
              "      <td>No</td>\n",
              "      <td>34</td>\n",
              "      <td>Yes</td>\n",
              "      <td>No</td>\n",
              "      <td>DSL</td>\n",
              "      <td>Yes</td>\n",
              "      <td>No</td>\n",
              "      <td>Yes</td>\n",
              "      <td>No</td>\n",
              "      <td>No</td>\n",
              "      <td>No</td>\n",
              "      <td>One_year</td>\n",
              "      <td>No</td>\n",
              "      <td>Mailed_check</td>\n",
              "      <td>56.95</td>\n",
              "      <td>1889.50</td>\n",
              "      <td>0</td>\n",
              "      <td>1</td>\n",
              "    </tr>\n",
              "    <tr>\n",
              "      <th>2</th>\n",
              "      <td>0</td>\n",
              "      <td>No</td>\n",
              "      <td>No</td>\n",
              "      <td>2</td>\n",
              "      <td>Yes</td>\n",
              "      <td>No</td>\n",
              "      <td>DSL</td>\n",
              "      <td>Yes</td>\n",
              "      <td>Yes</td>\n",
              "      <td>No</td>\n",
              "      <td>No</td>\n",
              "      <td>No</td>\n",
              "      <td>No</td>\n",
              "      <td>Month-to-month</td>\n",
              "      <td>Yes</td>\n",
              "      <td>Mailed_check</td>\n",
              "      <td>53.85</td>\n",
              "      <td>108.15</td>\n",
              "      <td>0</td>\n",
              "      <td>1</td>\n",
              "    </tr>\n",
              "    <tr>\n",
              "      <th>3</th>\n",
              "      <td>0</td>\n",
              "      <td>No</td>\n",
              "      <td>No</td>\n",
              "      <td>45</td>\n",
              "      <td>No</td>\n",
              "      <td>No_phone_service</td>\n",
              "      <td>DSL</td>\n",
              "      <td>Yes</td>\n",
              "      <td>No</td>\n",
              "      <td>Yes</td>\n",
              "      <td>Yes</td>\n",
              "      <td>No</td>\n",
              "      <td>No</td>\n",
              "      <td>One_year</td>\n",
              "      <td>No</td>\n",
              "      <td>Bank_transfer_(automatic)</td>\n",
              "      <td>42.30</td>\n",
              "      <td>1840.75</td>\n",
              "      <td>0</td>\n",
              "      <td>1</td>\n",
              "    </tr>\n",
              "    <tr>\n",
              "      <th>4</th>\n",
              "      <td>0</td>\n",
              "      <td>No</td>\n",
              "      <td>No</td>\n",
              "      <td>2</td>\n",
              "      <td>Yes</td>\n",
              "      <td>No</td>\n",
              "      <td>Fiber_optic</td>\n",
              "      <td>No</td>\n",
              "      <td>No</td>\n",
              "      <td>No</td>\n",
              "      <td>No</td>\n",
              "      <td>No</td>\n",
              "      <td>No</td>\n",
              "      <td>Month-to-month</td>\n",
              "      <td>Yes</td>\n",
              "      <td>Electronic_check</td>\n",
              "      <td>70.70</td>\n",
              "      <td>151.65</td>\n",
              "      <td>1</td>\n",
              "      <td>0</td>\n",
              "    </tr>\n",
              "  </tbody>\n",
              "</table>\n",
              "</div>\n",
              "      <button class=\"colab-df-convert\" onclick=\"convertToInteractive('df-fa598dd6-c971-4b02-bb8c-2f060e16288e')\"\n",
              "              title=\"Convert this dataframe to an interactive table.\"\n",
              "              style=\"display:none;\">\n",
              "        \n",
              "  <svg xmlns=\"http://www.w3.org/2000/svg\" height=\"24px\"viewBox=\"0 0 24 24\"\n",
              "       width=\"24px\">\n",
              "    <path d=\"M0 0h24v24H0V0z\" fill=\"none\"/>\n",
              "    <path d=\"M18.56 5.44l.94 2.06.94-2.06 2.06-.94-2.06-.94-.94-2.06-.94 2.06-2.06.94zm-11 1L8.5 8.5l.94-2.06 2.06-.94-2.06-.94L8.5 2.5l-.94 2.06-2.06.94zm10 10l.94 2.06.94-2.06 2.06-.94-2.06-.94-.94-2.06-.94 2.06-2.06.94z\"/><path d=\"M17.41 7.96l-1.37-1.37c-.4-.4-.92-.59-1.43-.59-.52 0-1.04.2-1.43.59L10.3 9.45l-7.72 7.72c-.78.78-.78 2.05 0 2.83L4 21.41c.39.39.9.59 1.41.59.51 0 1.02-.2 1.41-.59l7.78-7.78 2.81-2.81c.8-.78.8-2.07 0-2.86zM5.41 20L4 18.59l7.72-7.72 1.47 1.35L5.41 20z\"/>\n",
              "  </svg>\n",
              "      </button>\n",
              "      \n",
              "  <style>\n",
              "    .colab-df-container {\n",
              "      display:flex;\n",
              "      flex-wrap:wrap;\n",
              "      gap: 12px;\n",
              "    }\n",
              "\n",
              "    .colab-df-convert {\n",
              "      background-color: #E8F0FE;\n",
              "      border: none;\n",
              "      border-radius: 50%;\n",
              "      cursor: pointer;\n",
              "      display: none;\n",
              "      fill: #1967D2;\n",
              "      height: 32px;\n",
              "      padding: 0 0 0 0;\n",
              "      width: 32px;\n",
              "    }\n",
              "\n",
              "    .colab-df-convert:hover {\n",
              "      background-color: #E2EBFA;\n",
              "      box-shadow: 0px 1px 2px rgba(60, 64, 67, 0.3), 0px 1px 3px 1px rgba(60, 64, 67, 0.15);\n",
              "      fill: #174EA6;\n",
              "    }\n",
              "\n",
              "    [theme=dark] .colab-df-convert {\n",
              "      background-color: #3B4455;\n",
              "      fill: #D2E3FC;\n",
              "    }\n",
              "\n",
              "    [theme=dark] .colab-df-convert:hover {\n",
              "      background-color: #434B5C;\n",
              "      box-shadow: 0px 1px 3px 1px rgba(0, 0, 0, 0.15);\n",
              "      filter: drop-shadow(0px 1px 2px rgba(0, 0, 0, 0.3));\n",
              "      fill: #FFFFFF;\n",
              "    }\n",
              "  </style>\n",
              "\n",
              "      <script>\n",
              "        const buttonEl =\n",
              "          document.querySelector('#df-fa598dd6-c971-4b02-bb8c-2f060e16288e button.colab-df-convert');\n",
              "        buttonEl.style.display =\n",
              "          google.colab.kernel.accessAllowed ? 'block' : 'none';\n",
              "\n",
              "        async function convertToInteractive(key) {\n",
              "          const element = document.querySelector('#df-fa598dd6-c971-4b02-bb8c-2f060e16288e');\n",
              "          const dataTable =\n",
              "            await google.colab.kernel.invokeFunction('convertToInteractive',\n",
              "                                                     [key], {});\n",
              "          if (!dataTable) return;\n",
              "\n",
              "          const docLinkHtml = 'Like what you see? Visit the ' +\n",
              "            '<a target=\"_blank\" href=https://colab.research.google.com/notebooks/data_table.ipynb>data table notebook</a>'\n",
              "            + ' to learn more about interactive tables.';\n",
              "          element.innerHTML = '';\n",
              "          dataTable['output_type'] = 'display_data';\n",
              "          await google.colab.output.renderOutput(dataTable, element);\n",
              "          const docLink = document.createElement('div');\n",
              "          docLink.innerHTML = docLinkHtml;\n",
              "          element.appendChild(docLink);\n",
              "        }\n",
              "      </script>\n",
              "    </div>\n",
              "  </div>\n",
              "  "
            ]
          },
          "metadata": {},
          "execution_count": 69
        }
      ]
    },
    {
      "cell_type": "code",
      "source": [
        "#Lets go ahead and encode all these and then put the new df into \"features_encoded\"\n",
        "features_encoded = pd.get_dummies(features, columns = ['PaymentMethod', 'gender', 'SeniorCitizen',\n",
        "                                                       'Partner', 'Dependents', 'PhoneService',\n",
        "                                                       'MultipleLines', 'InternetService', 'OnlineSecurity',\n",
        "                                                       'OnlineBackup', 'DeviceProtection', 'TechSupport',\n",
        "                                                       'StreamingTV', 'StreamingMovies', 'Contract', \n",
        "                                                       'PaperlessBilling'])\n",
        "features_encoded.head()"
      ],
      "metadata": {
        "colab": {
          "base_uri": "https://localhost:8080/",
          "height": 317
        },
        "id": "obKhUT6S-Q3X",
        "outputId": "9a716968-4238-452e-dcfb-3e19fa3df1ca"
      },
      "execution_count": null,
      "outputs": [
        {
          "output_type": "execute_result",
          "data": {
            "text/plain": [
              "   tenure  MonthlyCharges  TotalCharges  \\\n",
              "0       1           29.85         29.85   \n",
              "1      34           56.95       1889.50   \n",
              "2       2           53.85        108.15   \n",
              "3      45           42.30       1840.75   \n",
              "4       2           70.70        151.65   \n",
              "\n",
              "   PaymentMethod_Bank_transfer_(automatic)  \\\n",
              "0                                        0   \n",
              "1                                        0   \n",
              "2                                        0   \n",
              "3                                        1   \n",
              "4                                        0   \n",
              "\n",
              "   PaymentMethod_Credit_card_(automatic)  PaymentMethod_Electronic_check  \\\n",
              "0                                      0                               1   \n",
              "1                                      0                               0   \n",
              "2                                      0                               0   \n",
              "3                                      0                               0   \n",
              "4                                      0                               1   \n",
              "\n",
              "   PaymentMethod_Mailed_check  gender_Female  gender_Male  \\\n",
              "0                           0              1            0   \n",
              "1                           1              0            1   \n",
              "2                           1              0            1   \n",
              "3                           0              0            1   \n",
              "4                           0              1            0   \n",
              "\n",
              "   SeniorCitizen_False  ...  StreamingTV_No_internet_service  StreamingTV_Yes  \\\n",
              "0                    1  ...                                0                0   \n",
              "1                    1  ...                                0                0   \n",
              "2                    1  ...                                0                0   \n",
              "3                    1  ...                                0                0   \n",
              "4                    1  ...                                0                0   \n",
              "\n",
              "   StreamingMovies_No  StreamingMovies_No_internet_service  \\\n",
              "0                   1                                    0   \n",
              "1                   1                                    0   \n",
              "2                   1                                    0   \n",
              "3                   1                                    0   \n",
              "4                   1                                    0   \n",
              "\n",
              "   StreamingMovies_Yes  Contract_Month-to-month  Contract_One_year  \\\n",
              "0                    0                        1                  0   \n",
              "1                    0                        0                  1   \n",
              "2                    0                        1                  0   \n",
              "3                    0                        0                  1   \n",
              "4                    0                        1                  0   \n",
              "\n",
              "   Contract_Two_year  PaperlessBilling_No  PaperlessBilling_Yes  \n",
              "0                  0                    0                     1  \n",
              "1                  0                    1                     0  \n",
              "2                  0                    0                     1  \n",
              "3                  0                    1                     0  \n",
              "4                  0                    0                     1  \n",
              "\n",
              "[5 rows x 46 columns]"
            ],
            "text/html": [
              "\n",
              "  <div id=\"df-03b18b32-a309-4fda-a12b-3aba9e29b612\">\n",
              "    <div class=\"colab-df-container\">\n",
              "      <div>\n",
              "<style scoped>\n",
              "    .dataframe tbody tr th:only-of-type {\n",
              "        vertical-align: middle;\n",
              "    }\n",
              "\n",
              "    .dataframe tbody tr th {\n",
              "        vertical-align: top;\n",
              "    }\n",
              "\n",
              "    .dataframe thead th {\n",
              "        text-align: right;\n",
              "    }\n",
              "</style>\n",
              "<table border=\"1\" class=\"dataframe\">\n",
              "  <thead>\n",
              "    <tr style=\"text-align: right;\">\n",
              "      <th></th>\n",
              "      <th>tenure</th>\n",
              "      <th>MonthlyCharges</th>\n",
              "      <th>TotalCharges</th>\n",
              "      <th>PaymentMethod_Bank_transfer_(automatic)</th>\n",
              "      <th>PaymentMethod_Credit_card_(automatic)</th>\n",
              "      <th>PaymentMethod_Electronic_check</th>\n",
              "      <th>PaymentMethod_Mailed_check</th>\n",
              "      <th>gender_Female</th>\n",
              "      <th>gender_Male</th>\n",
              "      <th>SeniorCitizen_False</th>\n",
              "      <th>...</th>\n",
              "      <th>StreamingTV_No_internet_service</th>\n",
              "      <th>StreamingTV_Yes</th>\n",
              "      <th>StreamingMovies_No</th>\n",
              "      <th>StreamingMovies_No_internet_service</th>\n",
              "      <th>StreamingMovies_Yes</th>\n",
              "      <th>Contract_Month-to-month</th>\n",
              "      <th>Contract_One_year</th>\n",
              "      <th>Contract_Two_year</th>\n",
              "      <th>PaperlessBilling_No</th>\n",
              "      <th>PaperlessBilling_Yes</th>\n",
              "    </tr>\n",
              "  </thead>\n",
              "  <tbody>\n",
              "    <tr>\n",
              "      <th>0</th>\n",
              "      <td>1</td>\n",
              "      <td>29.85</td>\n",
              "      <td>29.85</td>\n",
              "      <td>0</td>\n",
              "      <td>0</td>\n",
              "      <td>1</td>\n",
              "      <td>0</td>\n",
              "      <td>1</td>\n",
              "      <td>0</td>\n",
              "      <td>1</td>\n",
              "      <td>...</td>\n",
              "      <td>0</td>\n",
              "      <td>0</td>\n",
              "      <td>1</td>\n",
              "      <td>0</td>\n",
              "      <td>0</td>\n",
              "      <td>1</td>\n",
              "      <td>0</td>\n",
              "      <td>0</td>\n",
              "      <td>0</td>\n",
              "      <td>1</td>\n",
              "    </tr>\n",
              "    <tr>\n",
              "      <th>1</th>\n",
              "      <td>34</td>\n",
              "      <td>56.95</td>\n",
              "      <td>1889.50</td>\n",
              "      <td>0</td>\n",
              "      <td>0</td>\n",
              "      <td>0</td>\n",
              "      <td>1</td>\n",
              "      <td>0</td>\n",
              "      <td>1</td>\n",
              "      <td>1</td>\n",
              "      <td>...</td>\n",
              "      <td>0</td>\n",
              "      <td>0</td>\n",
              "      <td>1</td>\n",
              "      <td>0</td>\n",
              "      <td>0</td>\n",
              "      <td>0</td>\n",
              "      <td>1</td>\n",
              "      <td>0</td>\n",
              "      <td>1</td>\n",
              "      <td>0</td>\n",
              "    </tr>\n",
              "    <tr>\n",
              "      <th>2</th>\n",
              "      <td>2</td>\n",
              "      <td>53.85</td>\n",
              "      <td>108.15</td>\n",
              "      <td>0</td>\n",
              "      <td>0</td>\n",
              "      <td>0</td>\n",
              "      <td>1</td>\n",
              "      <td>0</td>\n",
              "      <td>1</td>\n",
              "      <td>1</td>\n",
              "      <td>...</td>\n",
              "      <td>0</td>\n",
              "      <td>0</td>\n",
              "      <td>1</td>\n",
              "      <td>0</td>\n",
              "      <td>0</td>\n",
              "      <td>1</td>\n",
              "      <td>0</td>\n",
              "      <td>0</td>\n",
              "      <td>0</td>\n",
              "      <td>1</td>\n",
              "    </tr>\n",
              "    <tr>\n",
              "      <th>3</th>\n",
              "      <td>45</td>\n",
              "      <td>42.30</td>\n",
              "      <td>1840.75</td>\n",
              "      <td>1</td>\n",
              "      <td>0</td>\n",
              "      <td>0</td>\n",
              "      <td>0</td>\n",
              "      <td>0</td>\n",
              "      <td>1</td>\n",
              "      <td>1</td>\n",
              "      <td>...</td>\n",
              "      <td>0</td>\n",
              "      <td>0</td>\n",
              "      <td>1</td>\n",
              "      <td>0</td>\n",
              "      <td>0</td>\n",
              "      <td>0</td>\n",
              "      <td>1</td>\n",
              "      <td>0</td>\n",
              "      <td>1</td>\n",
              "      <td>0</td>\n",
              "    </tr>\n",
              "    <tr>\n",
              "      <th>4</th>\n",
              "      <td>2</td>\n",
              "      <td>70.70</td>\n",
              "      <td>151.65</td>\n",
              "      <td>0</td>\n",
              "      <td>0</td>\n",
              "      <td>1</td>\n",
              "      <td>0</td>\n",
              "      <td>1</td>\n",
              "      <td>0</td>\n",
              "      <td>1</td>\n",
              "      <td>...</td>\n",
              "      <td>0</td>\n",
              "      <td>0</td>\n",
              "      <td>1</td>\n",
              "      <td>0</td>\n",
              "      <td>0</td>\n",
              "      <td>1</td>\n",
              "      <td>0</td>\n",
              "      <td>0</td>\n",
              "      <td>0</td>\n",
              "      <td>1</td>\n",
              "    </tr>\n",
              "  </tbody>\n",
              "</table>\n",
              "<p>5 rows × 46 columns</p>\n",
              "</div>\n",
              "      <button class=\"colab-df-convert\" onclick=\"convertToInteractive('df-03b18b32-a309-4fda-a12b-3aba9e29b612')\"\n",
              "              title=\"Convert this dataframe to an interactive table.\"\n",
              "              style=\"display:none;\">\n",
              "        \n",
              "  <svg xmlns=\"http://www.w3.org/2000/svg\" height=\"24px\"viewBox=\"0 0 24 24\"\n",
              "       width=\"24px\">\n",
              "    <path d=\"M0 0h24v24H0V0z\" fill=\"none\"/>\n",
              "    <path d=\"M18.56 5.44l.94 2.06.94-2.06 2.06-.94-2.06-.94-.94-2.06-.94 2.06-2.06.94zm-11 1L8.5 8.5l.94-2.06 2.06-.94-2.06-.94L8.5 2.5l-.94 2.06-2.06.94zm10 10l.94 2.06.94-2.06 2.06-.94-2.06-.94-.94-2.06-.94 2.06-2.06.94z\"/><path d=\"M17.41 7.96l-1.37-1.37c-.4-.4-.92-.59-1.43-.59-.52 0-1.04.2-1.43.59L10.3 9.45l-7.72 7.72c-.78.78-.78 2.05 0 2.83L4 21.41c.39.39.9.59 1.41.59.51 0 1.02-.2 1.41-.59l7.78-7.78 2.81-2.81c.8-.78.8-2.07 0-2.86zM5.41 20L4 18.59l7.72-7.72 1.47 1.35L5.41 20z\"/>\n",
              "  </svg>\n",
              "      </button>\n",
              "      \n",
              "  <style>\n",
              "    .colab-df-container {\n",
              "      display:flex;\n",
              "      flex-wrap:wrap;\n",
              "      gap: 12px;\n",
              "    }\n",
              "\n",
              "    .colab-df-convert {\n",
              "      background-color: #E8F0FE;\n",
              "      border: none;\n",
              "      border-radius: 50%;\n",
              "      cursor: pointer;\n",
              "      display: none;\n",
              "      fill: #1967D2;\n",
              "      height: 32px;\n",
              "      padding: 0 0 0 0;\n",
              "      width: 32px;\n",
              "    }\n",
              "\n",
              "    .colab-df-convert:hover {\n",
              "      background-color: #E2EBFA;\n",
              "      box-shadow: 0px 1px 2px rgba(60, 64, 67, 0.3), 0px 1px 3px 1px rgba(60, 64, 67, 0.15);\n",
              "      fill: #174EA6;\n",
              "    }\n",
              "\n",
              "    [theme=dark] .colab-df-convert {\n",
              "      background-color: #3B4455;\n",
              "      fill: #D2E3FC;\n",
              "    }\n",
              "\n",
              "    [theme=dark] .colab-df-convert:hover {\n",
              "      background-color: #434B5C;\n",
              "      box-shadow: 0px 1px 3px 1px rgba(0, 0, 0, 0.15);\n",
              "      filter: drop-shadow(0px 1px 2px rgba(0, 0, 0, 0.3));\n",
              "      fill: #FFFFFF;\n",
              "    }\n",
              "  </style>\n",
              "\n",
              "      <script>\n",
              "        const buttonEl =\n",
              "          document.querySelector('#df-03b18b32-a309-4fda-a12b-3aba9e29b612 button.colab-df-convert');\n",
              "        buttonEl.style.display =\n",
              "          google.colab.kernel.accessAllowed ? 'block' : 'none';\n",
              "\n",
              "        async function convertToInteractive(key) {\n",
              "          const element = document.querySelector('#df-03b18b32-a309-4fda-a12b-3aba9e29b612');\n",
              "          const dataTable =\n",
              "            await google.colab.kernel.invokeFunction('convertToInteractive',\n",
              "                                                     [key], {});\n",
              "          if (!dataTable) return;\n",
              "\n",
              "          const docLinkHtml = 'Like what you see? Visit the ' +\n",
              "            '<a target=\"_blank\" href=https://colab.research.google.com/notebooks/data_table.ipynb>data table notebook</a>'\n",
              "            + ' to learn more about interactive tables.';\n",
              "          element.innerHTML = '';\n",
              "          dataTable['output_type'] = 'display_data';\n",
              "          await google.colab.output.renderOutput(dataTable, element);\n",
              "          const docLink = document.createElement('div');\n",
              "          docLink.innerHTML = docLinkHtml;\n",
              "          element.appendChild(docLink);\n",
              "        }\n",
              "      </script>\n",
              "    </div>\n",
              "  </div>\n",
              "  "
            ]
          },
          "metadata": {},
          "execution_count": 78
        }
      ]
    },
    {
      "cell_type": "code",
      "source": [
        "#One last thing, lets make sure that everything in the target is as we would expect.\n",
        "target.unique() #Good thing we did, because we actually want 1 and 0 in this column."
      ],
      "metadata": {
        "colab": {
          "base_uri": "https://localhost:8080/"
        },
        "id": "24Y_cXCMASPQ",
        "outputId": "31d264a0-291b-401d-ef1a-c7e03f028587"
      },
      "execution_count": null,
      "outputs": [
        {
          "output_type": "execute_result",
          "data": {
            "text/plain": [
              "array(['No', 'Yes'], dtype=object)"
            ]
          },
          "metadata": {},
          "execution_count": 79
        }
      ]
    },
    {
      "cell_type": "code",
      "source": [
        "#That's better. Notice I set 'No' to 0 and 'Yes' to 1.\n",
        "target.replace('No', 0, regex = True, inplace = True)\n",
        "target.replace('Yes', 1, regex = True, inplace = True)\n",
        "target = pd.to_numeric(target)\n",
        "target.unique()"
      ],
      "metadata": {
        "colab": {
          "base_uri": "https://localhost:8080/"
        },
        "id": "SD2atqxYAcIi",
        "outputId": "aa446ed7-1bc5-4c81-b3e8-4254fc83a6a4"
      },
      "execution_count": null,
      "outputs": [
        {
          "output_type": "execute_result",
          "data": {
            "text/plain": [
              "array([0, 1])"
            ]
          },
          "metadata": {},
          "execution_count": 81
        }
      ]
    },
    {
      "cell_type": "markdown",
      "source": [
        "Let's work on actually building the model (finally)"
      ],
      "metadata": {
        "id": "RiMkUuEUBp-D"
      }
    },
    {
      "cell_type": "code",
      "source": [
        "#Here, we are calculating the percent of people that left the company\n",
        "sum(target)/len(target) #It's about close to 27."
      ],
      "metadata": {
        "colab": {
          "base_uri": "https://localhost:8080/"
        },
        "id": "TjoUxG2yBndh",
        "outputId": "d537b8d4-94f6-4307-e705-29cb61388633"
      },
      "execution_count": null,
      "outputs": [
        {
          "output_type": "execute_result",
          "data": {
            "text/plain": [
              "0.2653698707936959"
            ]
          },
          "metadata": {},
          "execution_count": 82
        }
      ]
    },
    {
      "cell_type": "code",
      "source": [
        "#The reason that we did the previous line is so that we can know that we need to stratify the train/test data for the target. \n",
        "#This is stratifing the split since we know that the data is not fairly split. If our ratio was closer to 0.5, then we wouldn't need to stratify anything.\n",
        "feat_train, feat_test, targ_train, targ_test = train_test_split(features_encoded, target, stratify = target)"
      ],
      "metadata": {
        "id": "hkTm7uopB7kS"
      },
      "execution_count": null,
      "outputs": []
    },
    {
      "cell_type": "code",
      "source": [
        "#Here we actually set up the model. I'm doing early stopping. This means that if we build 10 trees and the prediction doesn't really emprove we stop the algorithm.\n",
        "clf_xgb = xgb.XGBClassifier(objective = 'binary:logistic', missing = None)\n",
        "clf_xgb.fit(feat_train,\n",
        "            targ_train,\n",
        "            verbose = True,\n",
        "            early_stopping_rounds = 10,\n",
        "            eval_metric = 'aucpr',\n",
        "            eval_set = [(feat_test, targ_test)])"
      ],
      "metadata": {
        "colab": {
          "base_uri": "https://localhost:8080/"
        },
        "id": "Mm6seAqQCgrd",
        "outputId": "9da0b077-d97b-45b0-de58-2050ab11fb82"
      },
      "execution_count": null,
      "outputs": [
        {
          "output_type": "stream",
          "name": "stdout",
          "text": [
            "[0]\tvalidation_0-aucpr:0.553679\n",
            "Will train until validation_0-aucpr hasn't improved in 10 rounds.\n",
            "[1]\tvalidation_0-aucpr:0.564631\n",
            "[2]\tvalidation_0-aucpr:0.589315\n",
            "[3]\tvalidation_0-aucpr:0.58827\n",
            "[4]\tvalidation_0-aucpr:0.588358\n",
            "[5]\tvalidation_0-aucpr:0.58812\n",
            "[6]\tvalidation_0-aucpr:0.611733\n",
            "[7]\tvalidation_0-aucpr:0.618247\n",
            "[8]\tvalidation_0-aucpr:0.621741\n",
            "[9]\tvalidation_0-aucpr:0.619069\n",
            "[10]\tvalidation_0-aucpr:0.619084\n",
            "[11]\tvalidation_0-aucpr:0.620263\n",
            "[12]\tvalidation_0-aucpr:0.623069\n",
            "[13]\tvalidation_0-aucpr:0.626566\n",
            "[14]\tvalidation_0-aucpr:0.626934\n",
            "[15]\tvalidation_0-aucpr:0.627611\n",
            "[16]\tvalidation_0-aucpr:0.626427\n",
            "[17]\tvalidation_0-aucpr:0.630176\n",
            "[18]\tvalidation_0-aucpr:0.630259\n",
            "[19]\tvalidation_0-aucpr:0.631457\n",
            "[20]\tvalidation_0-aucpr:0.632761\n",
            "[21]\tvalidation_0-aucpr:0.634869\n",
            "[22]\tvalidation_0-aucpr:0.635023\n",
            "[23]\tvalidation_0-aucpr:0.638497\n",
            "[24]\tvalidation_0-aucpr:0.638422\n",
            "[25]\tvalidation_0-aucpr:0.639505\n",
            "[26]\tvalidation_0-aucpr:0.642882\n",
            "[27]\tvalidation_0-aucpr:0.643328\n",
            "[28]\tvalidation_0-aucpr:0.643579\n",
            "[29]\tvalidation_0-aucpr:0.643422\n",
            "[30]\tvalidation_0-aucpr:0.644855\n",
            "[31]\tvalidation_0-aucpr:0.64547\n",
            "[32]\tvalidation_0-aucpr:0.646483\n",
            "[33]\tvalidation_0-aucpr:0.646443\n",
            "[34]\tvalidation_0-aucpr:0.64719\n",
            "[35]\tvalidation_0-aucpr:0.64858\n",
            "[36]\tvalidation_0-aucpr:0.648512\n",
            "[37]\tvalidation_0-aucpr:0.648829\n",
            "[38]\tvalidation_0-aucpr:0.650803\n",
            "[39]\tvalidation_0-aucpr:0.651219\n",
            "[40]\tvalidation_0-aucpr:0.651628\n",
            "[41]\tvalidation_0-aucpr:0.651657\n",
            "[42]\tvalidation_0-aucpr:0.651423\n",
            "[43]\tvalidation_0-aucpr:0.652386\n",
            "[44]\tvalidation_0-aucpr:0.652219\n",
            "[45]\tvalidation_0-aucpr:0.653194\n",
            "[46]\tvalidation_0-aucpr:0.653209\n",
            "[47]\tvalidation_0-aucpr:0.653651\n",
            "[48]\tvalidation_0-aucpr:0.654079\n",
            "[49]\tvalidation_0-aucpr:0.654247\n",
            "[50]\tvalidation_0-aucpr:0.654355\n",
            "[51]\tvalidation_0-aucpr:0.654869\n",
            "[52]\tvalidation_0-aucpr:0.655121\n",
            "[53]\tvalidation_0-aucpr:0.655357\n",
            "[54]\tvalidation_0-aucpr:0.654741\n",
            "[55]\tvalidation_0-aucpr:0.654203\n",
            "[56]\tvalidation_0-aucpr:0.654284\n",
            "[57]\tvalidation_0-aucpr:0.653949\n",
            "[58]\tvalidation_0-aucpr:0.654324\n",
            "[59]\tvalidation_0-aucpr:0.654072\n",
            "[60]\tvalidation_0-aucpr:0.654415\n",
            "[61]\tvalidation_0-aucpr:0.654419\n",
            "[62]\tvalidation_0-aucpr:0.654167\n",
            "[63]\tvalidation_0-aucpr:0.653989\n",
            "Stopping. Best iteration:\n",
            "[53]\tvalidation_0-aucpr:0.655357\n",
            "\n"
          ]
        },
        {
          "output_type": "execute_result",
          "data": {
            "text/plain": [
              "XGBClassifier()"
            ]
          },
          "metadata": {},
          "execution_count": 88
        }
      ]
    },
    {
      "cell_type": "code",
      "source": [
        "#Let's make a confusion matrix to see what it's getting wrong.\n",
        "plot_confusion_matrix(clf_xgb,\n",
        "                      feat_test,\n",
        "                      targ_test,\n",
        "                      values_format = 'd',\n",
        "                      display_labels = [\"Did not leave\", \"Did leave\"])\n",
        "#Notice that this model is accuractly predicting people that did not leave. The problem is, we are mainly interested in the people that did leave, since they are the ones that cost the most money.\n",
        "#In this case, we can see that XGBoost did not do a very good job (right around random guess) when it comes to the classification that we are interested in.\n",
        "#I think a big reason that this is happening is because we have wildly imbalanced data."
      ],
      "metadata": {
        "colab": {
          "base_uri": "https://localhost:8080/",
          "height": 296
        },
        "id": "A1NYPh_QDi3p",
        "outputId": "92d91761-8cec-4d72-de65-a00428066ccf"
      },
      "execution_count": null,
      "outputs": [
        {
          "output_type": "execute_result",
          "data": {
            "text/plain": [
              "<sklearn.metrics._plot.confusion_matrix.ConfusionMatrixDisplay at 0x7fcb460f0c90>"
            ]
          },
          "metadata": {},
          "execution_count": 90
        },
        {
          "output_type": "display_data",
          "data": {
            "text/plain": [
              "<Figure size 432x288 with 2 Axes>"
            ],
            "image/png": "[encoded data removed]"
          },
          "metadata": {
            "needs_background": "light"
          }
        }
      ]
    },
    {
      "cell_type": "markdown",
      "source": [
        "Let's fix these problems by fine tuning the hyper parameters."
      ],
      "metadata": {
        "id": "ck2cnU3tEao1"
      }
    },
    {
      "cell_type": "code",
      "source": [
        "## ROUND 1 ##\n",
        "#param_grid = {\n",
        "#    'max_depth': [3,4,5],\n",
        "#    'learning_rate': [0.1, 0.01, 0.05],\n",
        "#    'gamma': [0, 0.25, 1.0],\n",
        "#    'reg_lambda': [0, 1.0, 10.0],\n",
        "#    'scale_pos_weight': [1, 3, 5]\n",
        "#}\n",
        "#Here's the output: {'gamma': 1.0, 'learning_rate': 0.1, 'max_depth': 3, 'reg_lambda': 0, 'scale_pos_weight': 1}\n",
        "#Since it looks like nothing is in the middle, I am going to try to move everything over and try again\n",
        "\n",
        "param_grid = {\n",
        "    'max_depth': [1, 2, 3],\n",
        "    'learn_rate': [0.1, 0.2, 0.5],\n",
        "    'gamma': [0.25, 1.5, 2.0],\n",
        "    'reg_lambda': [10, 11, 12],\n",
        "    'scale_pos_weight': [1, 2, 3]\n",
        "}\n",
        "#Here's the output: {'gamma': 1.0, 'learning_rate': 0.2, 'max_depth': 1, 'reg_lambda': 0, 'scale_pos_weight': 1}\n",
        "#It looks like some of them have found a good value. I'll stick with those. The max_depth is weird, I'm not sure what is going on there.\n",
        "\n",
        "optimal_params = GridSearchCV(\n",
        "    estimator = xgb.XGBClassifier(objective = 'binary:logistic',\n",
        "                                  subsample = 0.9, #This helps speed up everything. we only us 90% of the data per tree\n",
        "                                  colsample_bytree = 0.5), #We are only selecting 50% of the columns. This helps with speed and overfitting.\n",
        "    param_grid = param_grid,\n",
        "    scoring = 'roc_auc',\n",
        "    verbose = 0,\n",
        "    n_jobs = 10,\n",
        "    cv = 3)\n",
        "\n",
        "optimal_params.fit(feat_train,\n",
        "                   targ_train,\n",
        "                   early_stopping_rounds = 10,\n",
        "                   eval_metric = 'auc',\n",
        "                   eval_set = [(feat_test, targ_test)],\n",
        "                   verbose = False)\n",
        "print(optimal_params.best_params_)"
      ],
      "metadata": {
        "colab": {
          "base_uri": "https://localhost:8080/"
        },
        "id": "g77nmxgAEY2o",
        "outputId": "df54a95a-b935-4397-97ad-d40a9523320d"
      },
      "execution_count": null,
      "outputs": [
        {
          "output_type": "stream",
          "name": "stdout",
          "text": [
            "{'gamma': 2.0, 'learn_rate': 0.1, 'max_depth': 2, 'reg_lambda': 10, 'scale_pos_weight': 1}\n"
          ]
        }
      ]
    },
    {
      "cell_type": "markdown",
      "source": [
        "Let's make the final call to the XGBoost"
      ],
      "metadata": {
        "id": "rDyOVxZ5JjuO"
      }
    },
    {
      "cell_type": "code",
      "source": [
        "clf_xgb = xgb.XGBClassifier(objective = 'binary:logistic',\n",
        "                            gamma = 0.25,\n",
        "                            learn_rate = 0.1,\n",
        "                            max_depth = 4,\n",
        "                            reg_lambda = 10, \n",
        "                            scale_pos_weight = 3, \n",
        "                            subsample = 0.9,\n",
        "                            colsample_bytree = 0.5)\n",
        "\n",
        "clf_xgb.fit(feat_train,\n",
        "            targ_train,\n",
        "            verbose = True,\n",
        "            early_stopping_rounds = 10,\n",
        "            eval_metric = 'aucpr',\n",
        "            eval_set = [(feat_test, targ_test)])"
      ],
      "metadata": {
        "colab": {
          "base_uri": "https://localhost:8080/"
        },
        "id": "nZAj_JLOJmoV",
        "outputId": "c7dcb6db-b631-4b7a-8492-2e320ddd83ea"
      },
      "execution_count": null,
      "outputs": [
        {
          "output_type": "stream",
          "name": "stdout",
          "text": [
            "[0]\tvalidation_0-aucpr:0.524941\n",
            "Will train until validation_0-aucpr hasn't improved in 10 rounds.\n",
            "[1]\tvalidation_0-aucpr:0.590821\n",
            "[2]\tvalidation_0-aucpr:0.593517\n",
            "[3]\tvalidation_0-aucpr:0.590833\n",
            "[4]\tvalidation_0-aucpr:0.591041\n",
            "[5]\tvalidation_0-aucpr:0.613989\n",
            "[6]\tvalidation_0-aucpr:0.614191\n",
            "[7]\tvalidation_0-aucpr:0.614621\n",
            "[8]\tvalidation_0-aucpr:0.615242\n",
            "[9]\tvalidation_0-aucpr:0.622576\n",
            "[10]\tvalidation_0-aucpr:0.62561\n",
            "[11]\tvalidation_0-aucpr:0.628854\n",
            "[12]\tvalidation_0-aucpr:0.628802\n",
            "[13]\tvalidation_0-aucpr:0.629812\n",
            "[14]\tvalidation_0-aucpr:0.62822\n",
            "[15]\tvalidation_0-aucpr:0.631769\n",
            "[16]\tvalidation_0-aucpr:0.633312\n",
            "[17]\tvalidation_0-aucpr:0.638488\n",
            "[18]\tvalidation_0-aucpr:0.640431\n",
            "[19]\tvalidation_0-aucpr:0.642616\n",
            "[20]\tvalidation_0-aucpr:0.646399\n",
            "[21]\tvalidation_0-aucpr:0.64738\n",
            "[22]\tvalidation_0-aucpr:0.64702\n",
            "[23]\tvalidation_0-aucpr:0.645127\n",
            "[24]\tvalidation_0-aucpr:0.646897\n",
            "[25]\tvalidation_0-aucpr:0.64755\n",
            "[26]\tvalidation_0-aucpr:0.648044\n",
            "[27]\tvalidation_0-aucpr:0.64702\n",
            "[28]\tvalidation_0-aucpr:0.648118\n",
            "[29]\tvalidation_0-aucpr:0.649109\n",
            "[30]\tvalidation_0-aucpr:0.649231\n",
            "[31]\tvalidation_0-aucpr:0.649867\n",
            "[32]\tvalidation_0-aucpr:0.649485\n",
            "[33]\tvalidation_0-aucpr:0.649552\n",
            "[34]\tvalidation_0-aucpr:0.650866\n",
            "[35]\tvalidation_0-aucpr:0.651303\n",
            "[36]\tvalidation_0-aucpr:0.652234\n",
            "[37]\tvalidation_0-aucpr:0.652462\n",
            "[38]\tvalidation_0-aucpr:0.652507\n",
            "[39]\tvalidation_0-aucpr:0.652495\n",
            "[40]\tvalidation_0-aucpr:0.652868\n",
            "[41]\tvalidation_0-aucpr:0.653647\n",
            "[42]\tvalidation_0-aucpr:0.65316\n",
            "[43]\tvalidation_0-aucpr:0.654209\n",
            "[44]\tvalidation_0-aucpr:0.655066\n",
            "[45]\tvalidation_0-aucpr:0.655987\n",
            "[46]\tvalidation_0-aucpr:0.656787\n",
            "[47]\tvalidation_0-aucpr:0.657247\n",
            "[48]\tvalidation_0-aucpr:0.657493\n",
            "[49]\tvalidation_0-aucpr:0.657442\n",
            "[50]\tvalidation_0-aucpr:0.657703\n",
            "[51]\tvalidation_0-aucpr:0.657714\n",
            "[52]\tvalidation_0-aucpr:0.657959\n",
            "[53]\tvalidation_0-aucpr:0.657878\n",
            "[54]\tvalidation_0-aucpr:0.658527\n",
            "[55]\tvalidation_0-aucpr:0.658507\n",
            "[56]\tvalidation_0-aucpr:0.659127\n",
            "[57]\tvalidation_0-aucpr:0.659148\n",
            "[58]\tvalidation_0-aucpr:0.658837\n",
            "[59]\tvalidation_0-aucpr:0.659123\n",
            "[60]\tvalidation_0-aucpr:0.659137\n",
            "[61]\tvalidation_0-aucpr:0.660264\n",
            "[62]\tvalidation_0-aucpr:0.660471\n",
            "[63]\tvalidation_0-aucpr:0.660426\n",
            "[64]\tvalidation_0-aucpr:0.659748\n",
            "[65]\tvalidation_0-aucpr:0.660047\n",
            "[66]\tvalidation_0-aucpr:0.659872\n",
            "[67]\tvalidation_0-aucpr:0.659586\n",
            "[68]\tvalidation_0-aucpr:0.659445\n",
            "[69]\tvalidation_0-aucpr:0.659744\n",
            "[70]\tvalidation_0-aucpr:0.659806\n",
            "[71]\tvalidation_0-aucpr:0.659793\n",
            "[72]\tvalidation_0-aucpr:0.659954\n",
            "Stopping. Best iteration:\n",
            "[62]\tvalidation_0-aucpr:0.660471\n",
            "\n"
          ]
        },
        {
          "output_type": "execute_result",
          "data": {
            "text/plain": [
              "XGBClassifier(colsample_bytree=0.5, gamma=0.25, lean_rate=0.1, max_depth=4,\n",
              "              reg_lambda=10, scale_pos_weight=3, subsample=0.9)"
            ]
          },
          "metadata": {},
          "execution_count": 107
        }
      ]
    },
    {
      "cell_type": "code",
      "source": [
        "plot_confusion_matrix(clf_xgb,\n",
        "                      feat_test,\n",
        "                      targ_test,\n",
        "                      values_format = 'd',\n",
        "                      display_labels = [\"Did not Leave\", \"Did Leave\"])\n",
        "#One thing about the data: Notice that the accuracy has gone down (not by a ton) for the did not leave category. This means that we were predicting that less accuractly.\n",
        "#However, notice that we did muc better on the did leave category.\n",
        "#This means that we sacrificed the \"did not leave\" predictions for the \"Did Leave\" predictions.\n",
        "#I decided this is better since we are likely more interested in predicting if someone is going to leave, rather than if they are going to stay.\n",
        "#(if they leave, we loose money. If they stay, then nothing super different happens...)"
      ],
      "metadata": {
        "colab": {
          "base_uri": "https://localhost:8080/",
          "height": 354
        },
        "id": "uptKq4HFKOwz",
        "outputId": "ef6fa1e5-4cb9-4510-fae9-8dbc78b7d558"
      },
      "execution_count": null,
      "outputs": [
        {
          "output_type": "stream",
          "name": "stderr",
          "text": [
            "/usr/local/lib/python3.7/dist-packages/sklearn/utils/deprecation.py:87: FutureWarning: Function plot_confusion_matrix is deprecated; Function `plot_confusion_matrix` is deprecated in 1.0 and will be removed in 1.2. Use one of the class methods: ConfusionMatrixDisplay.from_predictions or ConfusionMatrixDisplay.from_estimator.\n",
            "  warnings.warn(msg, category=FutureWarning)\n"
          ]
        },
        {
          "output_type": "execute_result",
          "data": {
            "text/plain": [
              "<sklearn.metrics._plot.confusion_matrix.ConfusionMatrixDisplay at 0x7fcb44a0ec90>"
            ]
          },
          "metadata": {},
          "execution_count": 108
        },
        {
          "output_type": "display_data",
          "data": {
            "text/plain": [
              "<Figure size 432x288 with 2 Axes>"
            ],
            "image/png": "[encoded data removed]"
          },
          "metadata": {
            "needs_background": "light"
          }
        }
      ]
    },
    {
      "cell_type": "code",
      "source": [
        "#Let's draw the first tree so that we know a little bit about what is going on with the data.\n",
        "clf_xgb = xgb.XGBClassifier(objective = 'binary:logistic',\n",
        "                            gamma = 0.25,\n",
        "                            lean_rate = 0.1,\n",
        "                            max_depth = 4,\n",
        "                            reg_lambda = 10, \n",
        "                            scale_pos_weight = 3, \n",
        "                            subsample = 0.9,\n",
        "                            colsample_bytree = 0.5,\n",
        "                            n_estimators = 1)\n",
        "clf_xgb.fit(feat_train, targ_train)\n",
        "\n",
        "bst = clf_xgb.get_booster()\n",
        "for importance_type in ('weight', 'gain', 'cover', 'total_gain', 'total_cover'):\n",
        "  print('%s: ' % importance_type, bst.get_score(importance_type = importance_type))\n",
        "\n",
        "node_params = {'shape': 'box',\n",
        "                 'style': 'filled, rounded',\n",
        "                 'fillcolor': '#78cbe'}\n",
        "leaf_params = {'shape': 'box',\n",
        "               'style': 'filled',\n",
        "               'fillcolor': '#e48038'}\n",
        "\n",
        "xgb.to_graphviz(clf_xgb, num_trees = 0, size = '10,10',\n",
        "                condition_node_params = node_params,\n",
        "                leaf_node_params = leaf_params)"
      ],
      "metadata": {
        "colab": {
          "base_uri": "https://localhost:8080/",
          "height": 285
        },
        "id": "qa4GjtYkK10X",
        "outputId": "3d31c518-f89a-4d2b-caf6-0b0dd9284cbc"
      },
      "execution_count": null,
      "outputs": [
        {
          "output_type": "stream",
          "name": "stdout",
          "text": [
            "weight:  {'Contract_Month-to-month': 1, 'OnlineSecurity_No': 2, 'TotalCharges': 6, 'PaymentMethod_Electronic_check': 3, 'Contract_Two_year': 1, 'TechSupport_No': 1}\n",
            "gain:  {'Contract_Month-to-month': 1706.58386, 'OnlineSecurity_No': 172.0615234, 'TotalCharges': 18.466636023333333, 'PaymentMethod_Electronic_check': 13.974664066666667, 'Contract_Two_year': 20.1901016, 'TechSupport_No': 58.494751}\n",
            "cover:  {'Contract_Month-to-month': 1811.25, 'OnlineSecurity_No': 905.625, 'TotalCharges': 291.75, 'PaymentMethod_Electronic_check': 266.3333333333333, 'Contract_Two_year': 186.75, 'TechSupport_No': 885.25}\n",
            "total_gain:  {'Contract_Month-to-month': 1706.58386, 'OnlineSecurity_No': 344.1230468, 'TotalCharges': 110.79981614, 'PaymentMethod_Electronic_check': 41.9239922, 'Contract_Two_year': 20.1901016, 'TechSupport_No': 58.494751}\n",
            "total_cover:  {'Contract_Month-to-month': 1811.25, 'OnlineSecurity_No': 1811.25, 'TotalCharges': 1750.5, 'PaymentMethod_Electronic_check': 799.0, 'Contract_Two_year': 186.75, 'TechSupport_No': 885.25}\n"
          ]
        },
        {
          "output_type": "execute_result",
          "data": {
            "text/plain": [
              "<graphviz.dot.Digraph at 0x7fcb44885ad0>"
            ],
            "image/svg+xml": "<?xml version=\"1.0\" encoding=\"UTF-8\" standalone=\"no\"?>\n<!DOCTYPE svg PUBLIC \"-//W3C//DTD SVG 1.1//EN\"\n \"http://www.w3.org/Graphics/SVG/1.1/DTD/svg11.dtd\">\n<!-- Generated by graphviz version 2.40.1 (20161225.0304)\n -->\n<!-- Title: %3 Pages: 1 -->\n<svg width=\"720pt\" height=\"133pt\"\n viewBox=\"0.00 0.00 720.00 132.73\" xmlns=\"http://www.w3.org/2000/svg\" xmlns:xlink=\"http://www.w3.org/1999/xlink\">\n<g id=\"graph0\" class=\"graph\" transform=\"scale(.3386 .3386) rotate(0) translate(4 388)\">\n<title>%3</title>\n<polygon fill=\"#ffffff\" stroke=\"transparent\" points=\"-4,4 -4,-388 2122.5,-388 2122.5,4 -4,4\"/>\n<!-- 0 -->\n<g id=\"node1\" class=\"node\">\n<title>0</title>\n<path fill=\"#78cb0e\" stroke=\"#000000\" d=\"M917.5,-384C917.5,-384 756.5,-384 756.5,-384 750.5,-384 744.5,-378 744.5,-372 744.5,-372 744.5,-360 744.5,-360 744.5,-354 750.5,-348 756.5,-348 756.5,-348 917.5,-348 917.5,-348 923.5,-348 929.5,-354 929.5,-360 929.5,-360 929.5,-372 929.5,-372 929.5,-378 923.5,-384 917.5,-384\"/>\n<text text-anchor=\"middle\" x=\"837\" y=\"-362.3\" font-family=\"Times,serif\" font-size=\"14.00\" fill=\"#000000\">Contract_Month&#45;to&#45;month&lt;1</text>\n</g>\n<!-- 1 -->\n<g id=\"node2\" class=\"node\">\n<title>1</title>\n<path fill=\"#78cb0e\" stroke=\"#000000\" d=\"M728,-297C728,-297 608,-297 608,-297 602,-297 596,-291 596,-285 596,-285 596,-273 596,-273 596,-267 602,-261 608,-261 608,-261 728,-261 728,-261 734,-261 740,-267 740,-273 740,-273 740,-285 740,-285 740,-291 734,-297 728,-297\"/>\n<text text-anchor=\"middle\" x=\"668\" y=\"-275.3\" font-family=\"Times,serif\" font-size=\"14.00\" fill=\"#000000\">OnlineSecurity_No&lt;1</text>\n</g>\n<!-- 0&#45;&gt;1 -->\n<g id=\"edge1\" class=\"edge\">\n<title>0&#45;&gt;1</title>\n<path fill=\"none\" stroke=\"#0000ff\" d=\"M801.9831,-347.9735C775.9243,-334.5587 740.1714,-316.1533 712.1525,-301.7294\"/>\n<polygon fill=\"#0000ff\" stroke=\"#0000ff\" points=\"713.4651,-298.4686 702.972,-297.0034 710.2611,-304.6923 713.4651,-298.4686\"/>\n<text text-anchor=\"middle\" x=\"798.5\" y=\"-318.8\" font-family=\"Times,serif\" font-size=\"14.00\" fill=\"#000000\">yes, missing</text>\n</g>\n<!-- 2 -->\n<g id=\"node3\" class=\"node\">\n<title>2</title>\n<path fill=\"#78cb0e\" stroke=\"#000000\" d=\"M1272,-297C1272,-297 1152,-297 1152,-297 1146,-297 1140,-291 1140,-285 1140,-285 1140,-273 1140,-273 1140,-267 1146,-261 1152,-261 1152,-261 1272,-261 1272,-261 1278,-261 1284,-267 1284,-273 1284,-273 1284,-285 1284,-285 1284,-291 1278,-297 1272,-297\"/>\n<text text-anchor=\"middle\" x=\"1212\" y=\"-275.3\" font-family=\"Times,serif\" font-size=\"14.00\" fill=\"#000000\">OnlineSecurity_No&lt;1</text>\n</g>\n<!-- 0&#45;&gt;2 -->\n<g id=\"edge2\" class=\"edge\">\n<title>0&#45;&gt;2</title>\n<path fill=\"none\" stroke=\"#ff0000\" d=\"M914.7002,-347.9735C977.5222,-333.3989 1065.735,-312.9335 1129.7443,-298.0833\"/>\n<polygon fill=\"#ff0000\" stroke=\"#ff0000\" points=\"1130.8518,-301.4194 1139.802,-295.7499 1129.2697,-294.6005 1130.8518,-301.4194\"/>\n<text text-anchor=\"middle\" x=\"1055\" y=\"-318.8\" font-family=\"Times,serif\" font-size=\"14.00\" fill=\"#000000\">no</text>\n</g>\n<!-- 3 -->\n<g id=\"node4\" class=\"node\">\n<title>3</title>\n<path fill=\"#78cb0e\" stroke=\"#000000\" d=\"M459,-210C459,-210 311,-210 311,-210 305,-210 299,-204 299,-198 299,-198 299,-186 299,-186 299,-180 305,-174 311,-174 311,-174 459,-174 459,-174 465,-174 471,-180 471,-186 471,-186 471,-198 471,-198 471,-204 465,-210 459,-210\"/>\n<text text-anchor=\"middle\" x=\"385\" y=\"-188.3\" font-family=\"Times,serif\" font-size=\"14.00\" fill=\"#000000\">TotalCharges&lt;8671.27539</text>\n</g>\n<!-- 1&#45;&gt;3 -->\n<g id=\"edge3\" class=\"edge\">\n<title>1&#45;&gt;3</title>\n<path fill=\"none\" stroke=\"#0000ff\" d=\"M609.3622,-260.9735C563.9229,-247.0046 500.8815,-227.6244 453.1902,-212.9631\"/>\n<polygon fill=\"#0000ff\" stroke=\"#0000ff\" points=\"454.1497,-209.5964 443.5627,-210.0034 452.0927,-216.2874 454.1497,-209.5964\"/>\n<text text-anchor=\"middle\" x=\"579.5\" y=\"-231.8\" font-family=\"Times,serif\" font-size=\"14.00\" fill=\"#000000\">yes, missing</text>\n</g>\n<!-- 4 -->\n<g id=\"node5\" class=\"node\">\n<title>4</title>\n<path fill=\"#78cb0e\" stroke=\"#000000\" d=\"M729,-210C729,-210 607,-210 607,-210 601,-210 595,-204 595,-198 595,-198 595,-186 595,-186 595,-180 601,-174 607,-174 607,-174 729,-174 729,-174 735,-174 741,-180 741,-186 741,-186 741,-198 741,-198 741,-204 735,-210 729,-210\"/>\n<text text-anchor=\"middle\" x=\"668\" y=\"-188.3\" font-family=\"Times,serif\" font-size=\"14.00\" fill=\"#000000\">Contract_Two_year&lt;1</text>\n</g>\n<!-- 1&#45;&gt;4 -->\n<g id=\"edge4\" class=\"edge\">\n<title>1&#45;&gt;4</title>\n<path fill=\"none\" stroke=\"#ff0000\" d=\"M668,-260.9735C668,-249.1918 668,-233.5607 668,-220.1581\"/>\n<polygon fill=\"#ff0000\" stroke=\"#ff0000\" points=\"671.5001,-220.0033 668,-210.0034 664.5001,-220.0034 671.5001,-220.0033\"/>\n<text text-anchor=\"middle\" x=\"676\" y=\"-231.8\" font-family=\"Times,serif\" font-size=\"14.00\" fill=\"#000000\">no</text>\n</g>\n<!-- 5 -->\n<g id=\"node16\" class=\"node\">\n<title>5</title>\n<path fill=\"#78cb0e\" stroke=\"#000000\" d=\"M1316.5,-210C1316.5,-210 1107.5,-210 1107.5,-210 1101.5,-210 1095.5,-204 1095.5,-198 1095.5,-198 1095.5,-186 1095.5,-186 1095.5,-180 1101.5,-174 1107.5,-174 1107.5,-174 1316.5,-174 1316.5,-174 1322.5,-174 1328.5,-180 1328.5,-186 1328.5,-186 1328.5,-198 1328.5,-198 1328.5,-204 1322.5,-210 1316.5,-210\"/>\n<text text-anchor=\"middle\" x=\"1212\" y=\"-188.3\" font-family=\"Times,serif\" font-size=\"14.00\" fill=\"#000000\">PaymentMethod_Electronic_check&lt;1</text>\n</g>\n<!-- 2&#45;&gt;5 -->\n<g id=\"edge15\" class=\"edge\">\n<title>2&#45;&gt;5</title>\n<path fill=\"none\" stroke=\"#0000ff\" d=\"M1212,-260.9735C1212,-249.1918 1212,-233.5607 1212,-220.1581\"/>\n<polygon fill=\"#0000ff\" stroke=\"#0000ff\" points=\"1215.5001,-220.0033 1212,-210.0034 1208.5001,-220.0034 1215.5001,-220.0033\"/>\n<text text-anchor=\"middle\" x=\"1247.5\" y=\"-231.8\" font-family=\"Times,serif\" font-size=\"14.00\" fill=\"#000000\">yes, missing</text>\n</g>\n<!-- 6 -->\n<g id=\"node17\" class=\"node\">\n<title>6</title>\n<path fill=\"#78cb0e\" stroke=\"#000000\" d=\"M1710,-210C1710,-210 1602,-210 1602,-210 1596,-210 1590,-204 1590,-198 1590,-198 1590,-186 1590,-186 1590,-180 1596,-174 1602,-174 1602,-174 1710,-174 1710,-174 1716,-174 1722,-180 1722,-186 1722,-186 1722,-198 1722,-198 1722,-204 1716,-210 1710,-210\"/>\n<text text-anchor=\"middle\" x=\"1656\" y=\"-188.3\" font-family=\"Times,serif\" font-size=\"14.00\" fill=\"#000000\">TechSupport_No&lt;1</text>\n</g>\n<!-- 2&#45;&gt;6 -->\n<g id=\"edge16\" class=\"edge\">\n<title>2&#45;&gt;6</title>\n<path fill=\"none\" stroke=\"#ff0000\" d=\"M1284.3244,-264.8283C1365.6709,-248.8888 1497.2045,-223.1153 1580.0194,-206.8881\"/>\n<polygon fill=\"#ff0000\" stroke=\"#ff0000\" points=\"1580.7303,-210.3154 1589.8706,-204.9578 1579.3842,-203.4461 1580.7303,-210.3154\"/>\n<text text-anchor=\"middle\" x=\"1469\" y=\"-231.8\" font-family=\"Times,serif\" font-size=\"14.00\" fill=\"#000000\">no</text>\n</g>\n<!-- 7 -->\n<g id=\"node6\" class=\"node\">\n<title>7</title>\n<path fill=\"#78cb0e\" stroke=\"#000000\" d=\"M285.5,-123C285.5,-123 76.5,-123 76.5,-123 70.5,-123 64.5,-117 64.5,-111 64.5,-111 64.5,-99 64.5,-99 64.5,-93 70.5,-87 76.5,-87 76.5,-87 285.5,-87 285.5,-87 291.5,-87 297.5,-93 297.5,-99 297.5,-99 297.5,-111 297.5,-111 297.5,-117 291.5,-123 285.5,-123\"/>\n<text text-anchor=\"middle\" x=\"181\" y=\"-101.3\" font-family=\"Times,serif\" font-size=\"14.00\" fill=\"#000000\">PaymentMethod_Electronic_check&lt;1</text>\n</g>\n<!-- 3&#45;&gt;7 -->\n<g id=\"edge5\" class=\"edge\">\n<title>3&#45;&gt;7</title>\n<path fill=\"none\" stroke=\"#0000ff\" d=\"M342.7311,-173.9735C310.7284,-160.3254 266.6135,-141.5116 232.5404,-126.9805\"/>\n<polygon fill=\"#0000ff\" stroke=\"#0000ff\" points=\"233.7862,-123.7068 223.2148,-123.0034 231.0402,-130.1457 233.7862,-123.7068\"/>\n<text text-anchor=\"middle\" x=\"331.5\" y=\"-144.8\" font-family=\"Times,serif\" font-size=\"14.00\" fill=\"#000000\">yes, missing</text>\n</g>\n<!-- 8 -->\n<g id=\"node7\" class=\"node\">\n<title>8</title>\n<polygon fill=\"#e48038\" stroke=\"#000000\" points=\"454.5,-123 315.5,-123 315.5,-87 454.5,-87 454.5,-123\"/>\n<text text-anchor=\"middle\" x=\"385\" y=\"-101.3\" font-family=\"Times,serif\" font-size=\"14.00\" fill=\"#000000\">leaf=0.00909090973</text>\n</g>\n<!-- 3&#45;&gt;8 -->\n<g id=\"edge6\" class=\"edge\">\n<title>3&#45;&gt;8</title>\n<path fill=\"none\" stroke=\"#ff0000\" d=\"M385,-173.9735C385,-162.1918 385,-146.5607 385,-133.1581\"/>\n<polygon fill=\"#ff0000\" stroke=\"#ff0000\" points=\"388.5001,-133.0033 385,-123.0034 381.5001,-133.0034 388.5001,-133.0033\"/>\n<text text-anchor=\"middle\" x=\"393\" y=\"-144.8\" font-family=\"Times,serif\" font-size=\"14.00\" fill=\"#000000\">no</text>\n</g>\n<!-- 9 -->\n<g id=\"node10\" class=\"node\">\n<title>9</title>\n<path fill=\"#78cb0e\" stroke=\"#000000\" d=\"M625,-123C625,-123 485,-123 485,-123 479,-123 473,-117 473,-111 473,-111 473,-99 473,-99 473,-93 479,-87 485,-87 485,-87 625,-87 625,-87 631,-87 637,-93 637,-99 637,-99 637,-111 637,-111 637,-117 631,-123 625,-123\"/>\n<text text-anchor=\"middle\" x=\"555\" y=\"-101.3\" font-family=\"Times,serif\" font-size=\"14.00\" fill=\"#000000\">TotalCharges&lt;4988.1748</text>\n</g>\n<!-- 4&#45;&gt;9 -->\n<g id=\"edge9\" class=\"edge\">\n<title>4&#45;&gt;9</title>\n<path fill=\"none\" stroke=\"#0000ff\" d=\"M644.5863,-173.9735C627.7684,-161.0253 604.9118,-143.4276 586.4952,-129.2485\"/>\n<polygon fill=\"#0000ff\" stroke=\"#0000ff\" points=\"588.4425,-126.3306 578.3837,-123.0034 584.1721,-131.8772 588.4425,-126.3306\"/>\n<text text-anchor=\"middle\" x=\"654.5\" y=\"-144.8\" font-family=\"Times,serif\" font-size=\"14.00\" fill=\"#000000\">yes, missing</text>\n</g>\n<!-- 10 -->\n<g id=\"node11\" class=\"node\">\n<title>10</title>\n<path fill=\"#78cb0e\" stroke=\"#000000\" d=\"M876.5,-123C876.5,-123 667.5,-123 667.5,-123 661.5,-123 655.5,-117 655.5,-111 655.5,-111 655.5,-99 655.5,-99 655.5,-93 661.5,-87 667.5,-87 667.5,-87 876.5,-87 876.5,-87 882.5,-87 888.5,-93 888.5,-99 888.5,-99 888.5,-111 888.5,-111 888.5,-117 882.5,-123 876.5,-123\"/>\n<text text-anchor=\"middle\" x=\"772\" y=\"-101.3\" font-family=\"Times,serif\" font-size=\"14.00\" fill=\"#000000\">PaymentMethod_Electronic_check&lt;1</text>\n</g>\n<!-- 4&#45;&gt;10 -->\n<g id=\"edge10\" class=\"edge\">\n<title>4&#45;&gt;10</title>\n<path fill=\"none\" stroke=\"#ff0000\" d=\"M689.5489,-173.9735C704.8878,-161.1419 725.6849,-143.7443 742.5541,-129.6326\"/>\n<polygon fill=\"#ff0000\" stroke=\"#ff0000\" points=\"745.0543,-132.1043 750.4787,-123.0034 740.5629,-126.7352 745.0543,-132.1043\"/>\n<text text-anchor=\"middle\" x=\"735\" y=\"-144.8\" font-family=\"Times,serif\" font-size=\"14.00\" fill=\"#000000\">no</text>\n</g>\n<!-- 15 -->\n<g id=\"node8\" class=\"node\">\n<title>15</title>\n<polygon fill=\"#e48038\" stroke=\"#000000\" points=\"128,-36 0,-36 0,0 128,0 128,-36\"/>\n<text text-anchor=\"middle\" x=\"64\" y=\"-14.3\" font-family=\"Times,serif\" font-size=\"14.00\" fill=\"#000000\">leaf=&#45;0.161956534</text>\n</g>\n<!-- 7&#45;&gt;15 -->\n<g id=\"edge7\" class=\"edge\">\n<title>7&#45;&gt;15</title>\n<path fill=\"none\" stroke=\"#0000ff\" d=\"M148.2017,-86.8454C139.1622,-81.4367 129.5075,-75.2704 121,-69 110.3945,-61.1832 99.4476,-51.7647 90.0171,-43.1603\"/>\n<polygon fill=\"#0000ff\" stroke=\"#0000ff\" points=\"92.2036,-40.4143 82.493,-36.177 87.4417,-45.5451 92.2036,-40.4143\"/>\n<text text-anchor=\"middle\" x=\"156.5\" y=\"-57.8\" font-family=\"Times,serif\" font-size=\"14.00\" fill=\"#000000\">yes, missing</text>\n</g>\n<!-- 16 -->\n<g id=\"node9\" class=\"node\">\n<title>16</title>\n<polygon fill=\"#e48038\" stroke=\"#000000\" points=\"282,-36 146,-36 146,0 282,0 282,-36\"/>\n<text text-anchor=\"middle\" x=\"214\" y=\"-14.3\" font-family=\"Times,serif\" font-size=\"14.00\" fill=\"#000000\">leaf=&#45;0.0940298513</text>\n</g>\n<!-- 7&#45;&gt;16 -->\n<g id=\"edge8\" class=\"edge\">\n<title>7&#45;&gt;16</title>\n<path fill=\"none\" stroke=\"#ff0000\" d=\"M187.8376,-86.9735C192.3951,-74.9585 198.471,-58.9401 203.6203,-45.3646\"/>\n<polygon fill=\"#ff0000\" stroke=\"#ff0000\" points=\"206.897,-46.5947 207.1711,-36.0034 200.352,-44.112 206.897,-46.5947\"/>\n<text text-anchor=\"middle\" x=\"208\" y=\"-57.8\" font-family=\"Times,serif\" font-size=\"14.00\" fill=\"#000000\">no</text>\n</g>\n<!-- 17 -->\n<g id=\"node12\" class=\"node\">\n<title>17</title>\n<polygon fill=\"#e48038\" stroke=\"#000000\" points=\"467.5,-36 332.5,-36 332.5,0 467.5,0 467.5,-36\"/>\n<text text-anchor=\"middle\" x=\"400\" y=\"-14.3\" font-family=\"Times,serif\" font-size=\"14.00\" fill=\"#000000\">leaf=&#45;0.0612466112</text>\n</g>\n<!-- 9&#45;&gt;17 -->\n<g id=\"edge11\" class=\"edge\">\n<title>9&#45;&gt;17</title>\n<path fill=\"none\" stroke=\"#0000ff\" d=\"M514.8453,-86.8182C503.4414,-81.3616 491.1079,-75.1773 480,-69 465.0034,-60.6601 448.9638,-50.662 435.2137,-41.7365\"/>\n<polygon fill=\"#0000ff\" stroke=\"#0000ff\" points=\"436.825,-38.6078 426.5425,-36.0542 432.9883,-44.4627 436.825,-38.6078\"/>\n<text text-anchor=\"middle\" x=\"515.5\" y=\"-57.8\" font-family=\"Times,serif\" font-size=\"14.00\" fill=\"#000000\">yes, missing</text>\n</g>\n<!-- 18 -->\n<g id=\"node13\" class=\"node\">\n<title>18</title>\n<polygon fill=\"#e48038\" stroke=\"#000000\" points=\"624,-36 486,-36 486,0 624,0 624,-36\"/>\n<text text-anchor=\"middle\" x=\"555\" y=\"-14.3\" font-family=\"Times,serif\" font-size=\"14.00\" fill=\"#000000\">leaf=0.00465116277</text>\n</g>\n<!-- 9&#45;&gt;18 -->\n<g id=\"edge12\" class=\"edge\">\n<title>9&#45;&gt;18</title>\n<path fill=\"none\" stroke=\"#ff0000\" d=\"M555,-86.9735C555,-75.1918 555,-59.5607 555,-46.1581\"/>\n<polygon fill=\"#ff0000\" stroke=\"#ff0000\" points=\"558.5001,-46.0033 555,-36.0034 551.5001,-46.0034 558.5001,-46.0033\"/>\n<text text-anchor=\"middle\" x=\"563\" y=\"-57.8\" font-family=\"Times,serif\" font-size=\"14.00\" fill=\"#000000\">no</text>\n</g>\n<!-- 19 -->\n<g id=\"node14\" class=\"node\">\n<title>19</title>\n<polygon fill=\"#e48038\" stroke=\"#000000\" points=\"770,-36 642,-36 642,0 770,0 770,-36\"/>\n<text text-anchor=\"middle\" x=\"706\" y=\"-14.3\" font-family=\"Times,serif\" font-size=\"14.00\" fill=\"#000000\">leaf=&#45;0.124463521</text>\n</g>\n<!-- 10&#45;&gt;19 -->\n<g id=\"edge13\" class=\"edge\">\n<title>10&#45;&gt;19</title>\n<path fill=\"none\" stroke=\"#0000ff\" d=\"M758.3248,-86.9735C748.9444,-74.6085 736.3475,-58.0036 725.8643,-44.1847\"/>\n<polygon fill=\"#0000ff\" stroke=\"#0000ff\" points=\"728.4901,-41.8549 719.6577,-36.0034 722.9132,-46.0857 728.4901,-41.8549\"/>\n<text text-anchor=\"middle\" x=\"778.5\" y=\"-57.8\" font-family=\"Times,serif\" font-size=\"14.00\" fill=\"#000000\">yes, missing</text>\n</g>\n<!-- 20 -->\n<g id=\"node15\" class=\"node\">\n<title>20</title>\n<polygon fill=\"#e48038\" stroke=\"#000000\" points=\"919.5,-36 788.5,-36 788.5,0 919.5,0 919.5,-36\"/>\n<text text-anchor=\"middle\" x=\"854\" y=\"-14.3\" font-family=\"Times,serif\" font-size=\"14.00\" fill=\"#000000\">leaf=&#45;0.0311111119</text>\n</g>\n<!-- 10&#45;&gt;20 -->\n<g id=\"edge14\" class=\"edge\">\n<title>10&#45;&gt;20</title>\n<path fill=\"none\" stroke=\"#ff0000\" d=\"M797.9596,-86.8159C804.823,-81.4528 811.9873,-75.3173 818,-69 824.9139,-61.7359 831.533,-53.0601 837.1672,-44.9421\"/>\n<polygon fill=\"#ff0000\" stroke=\"#ff0000\" points=\"840.2017,-46.7009 842.8616,-36.4454 834.3868,-42.8038 840.2017,-46.7009\"/>\n<text text-anchor=\"middle\" x=\"839\" y=\"-57.8\" font-family=\"Times,serif\" font-size=\"14.00\" fill=\"#000000\">no</text>\n</g>\n<!-- 11 -->\n<g id=\"node18\" class=\"node\">\n<title>11</title>\n<path fill=\"#78cb0e\" stroke=\"#000000\" d=\"M1203,-123C1203,-123 1055,-123 1055,-123 1049,-123 1043,-117 1043,-111 1043,-111 1043,-99 1043,-99 1043,-93 1049,-87 1055,-87 1055,-87 1203,-87 1203,-87 1209,-87 1215,-93 1215,-99 1215,-99 1215,-111 1215,-111 1215,-117 1209,-123 1203,-123\"/>\n<text text-anchor=\"middle\" x=\"1129\" y=\"-101.3\" font-family=\"Times,serif\" font-size=\"14.00\" fill=\"#000000\">TotalCharges&lt;33.4500008</text>\n</g>\n<!-- 5&#45;&gt;11 -->\n<g id=\"edge17\" class=\"edge\">\n<title>5&#45;&gt;11</title>\n<path fill=\"none\" stroke=\"#0000ff\" d=\"M1194.8023,-173.9735C1182.7833,-161.3752 1166.5651,-144.3755 1153.2375,-130.4055\"/>\n<polygon fill=\"#0000ff\" stroke=\"#0000ff\" points=\"1155.6108,-127.8228 1146.1756,-123.0034 1150.546,-132.6548 1155.6108,-127.8228\"/>\n<text text-anchor=\"middle\" x=\"1211.5\" y=\"-144.8\" font-family=\"Times,serif\" font-size=\"14.00\" fill=\"#000000\">yes, missing</text>\n</g>\n<!-- 12 -->\n<g id=\"node19\" class=\"node\">\n<title>12</title>\n<path fill=\"#78cb0e\" stroke=\"#000000\" d=\"M1392.5,-123C1392.5,-123 1245.5,-123 1245.5,-123 1239.5,-123 1233.5,-117 1233.5,-111 1233.5,-111 1233.5,-99 1233.5,-99 1233.5,-93 1239.5,-87 1245.5,-87 1245.5,-87 1392.5,-87 1392.5,-87 1398.5,-87 1404.5,-93 1404.5,-99 1404.5,-99 1404.5,-111 1404.5,-111 1404.5,-117 1398.5,-123 1392.5,-123\"/>\n<text text-anchor=\"middle\" x=\"1319\" y=\"-101.3\" font-family=\"Times,serif\" font-size=\"14.00\" fill=\"#000000\">TotalCharges&lt;2611.30005</text>\n</g>\n<!-- 5&#45;&gt;12 -->\n<g id=\"edge18\" class=\"edge\">\n<title>5&#45;&gt;12</title>\n<path fill=\"none\" stroke=\"#ff0000\" d=\"M1234.1705,-173.9735C1249.9519,-161.1419 1271.3489,-143.7443 1288.7047,-129.6326\"/>\n<polygon fill=\"#ff0000\" stroke=\"#ff0000\" points=\"1291.307,-132.0277 1296.8579,-123.0034 1286.8909,-126.5964 1291.307,-132.0277\"/>\n<text text-anchor=\"middle\" x=\"1280\" y=\"-144.8\" font-family=\"Times,serif\" font-size=\"14.00\" fill=\"#000000\">no</text>\n</g>\n<!-- 13 -->\n<g id=\"node24\" class=\"node\">\n<title>13</title>\n<path fill=\"#78cb0e\" stroke=\"#000000\" d=\"M1730,-123C1730,-123 1582,-123 1582,-123 1576,-123 1570,-117 1570,-111 1570,-111 1570,-99 1570,-99 1570,-93 1576,-87 1582,-87 1582,-87 1730,-87 1730,-87 1736,-87 1742,-93 1742,-99 1742,-99 1742,-111 1742,-111 1742,-117 1736,-123 1730,-123\"/>\n<text text-anchor=\"middle\" x=\"1656\" y=\"-101.3\" font-family=\"Times,serif\" font-size=\"14.00\" fill=\"#000000\">TotalCharges&lt;1307.07495</text>\n</g>\n<!-- 6&#45;&gt;13 -->\n<g id=\"edge23\" class=\"edge\">\n<title>6&#45;&gt;13</title>\n<path fill=\"none\" stroke=\"#0000ff\" d=\"M1656,-173.9735C1656,-162.1918 1656,-146.5607 1656,-133.1581\"/>\n<polygon fill=\"#0000ff\" stroke=\"#0000ff\" points=\"1659.5001,-133.0033 1656,-123.0034 1652.5001,-133.0034 1659.5001,-133.0033\"/>\n<text text-anchor=\"middle\" x=\"1691.5\" y=\"-144.8\" font-family=\"Times,serif\" font-size=\"14.00\" fill=\"#000000\">yes, missing</text>\n</g>\n<!-- 14 -->\n<g id=\"node25\" class=\"node\">\n<title>14</title>\n<path fill=\"#78cb0e\" stroke=\"#000000\" d=\"M1981,-123C1981,-123 1833,-123 1833,-123 1827,-123 1821,-117 1821,-111 1821,-111 1821,-99 1821,-99 1821,-93 1827,-87 1833,-87 1833,-87 1981,-87 1981,-87 1987,-87 1993,-93 1993,-99 1993,-99 1993,-111 1993,-111 1993,-117 1987,-123 1981,-123\"/>\n<text text-anchor=\"middle\" x=\"1907\" y=\"-101.3\" font-family=\"Times,serif\" font-size=\"14.00\" fill=\"#000000\">TotalCharges&lt;1260.17505</text>\n</g>\n<!-- 6&#45;&gt;14 -->\n<g id=\"edge24\" class=\"edge\">\n<title>6&#45;&gt;14</title>\n<path fill=\"none\" stroke=\"#ff0000\" d=\"M1708.0074,-173.9735C1747.9721,-160.1212 1803.2889,-140.9477 1845.4579,-126.3313\"/>\n<polygon fill=\"#ff0000\" stroke=\"#ff0000\" points=\"1846.757,-129.5854 1855.0593,-123.0034 1844.4645,-122.9714 1846.757,-129.5854\"/>\n<text text-anchor=\"middle\" x=\"1805\" y=\"-144.8\" font-family=\"Times,serif\" font-size=\"14.00\" fill=\"#000000\">no</text>\n</g>\n<!-- 21 -->\n<g id=\"node20\" class=\"node\">\n<title>21</title>\n<polygon fill=\"#e48038\" stroke=\"#000000\" points=\"1062,-36 938,-36 938,0 1062,0 1062,-36\"/>\n<text text-anchor=\"middle\" x=\"1000\" y=\"-14.3\" font-family=\"Times,serif\" font-size=\"14.00\" fill=\"#000000\">leaf=0.057276994</text>\n</g>\n<!-- 11&#45;&gt;21 -->\n<g id=\"edge19\" class=\"edge\">\n<title>11&#45;&gt;21</title>\n<path fill=\"none\" stroke=\"#0000ff\" d=\"M1093.0236,-86.9063C1083.081,-81.4982 1072.436,-75.317 1063,-69 1051.1657,-61.0774 1038.8424,-51.4484 1028.2663,-42.7004\"/>\n<polygon fill=\"#0000ff\" stroke=\"#0000ff\" points=\"1030.4649,-39.9763 1020.5562,-36.2253 1025.963,-45.3367 1030.4649,-39.9763\"/>\n<text text-anchor=\"middle\" x=\"1098.5\" y=\"-57.8\" font-family=\"Times,serif\" font-size=\"14.00\" fill=\"#000000\">yes, missing</text>\n</g>\n<!-- 22 -->\n<g id=\"node21\" class=\"node\">\n<title>22</title>\n<polygon fill=\"#e48038\" stroke=\"#000000\" points=\"1216,-36 1080,-36 1080,0 1216,0 1216,-36\"/>\n<text text-anchor=\"middle\" x=\"1148\" y=\"-14.3\" font-family=\"Times,serif\" font-size=\"14.00\" fill=\"#000000\">leaf=&#45;0.0478561558</text>\n</g>\n<!-- 11&#45;&gt;22 -->\n<g id=\"edge20\" class=\"edge\">\n<title>11&#45;&gt;22</title>\n<path fill=\"none\" stroke=\"#ff0000\" d=\"M1132.9368,-86.9735C1135.5098,-75.1918 1138.9235,-59.5607 1141.8505,-46.1581\"/>\n<polygon fill=\"#ff0000\" stroke=\"#ff0000\" points=\"1145.3539,-46.5199 1144.0682,-36.0034 1138.5151,-45.0263 1145.3539,-46.5199\"/>\n<text text-anchor=\"middle\" x=\"1148\" y=\"-57.8\" font-family=\"Times,serif\" font-size=\"14.00\" fill=\"#000000\">no</text>\n</g>\n<!-- 23 -->\n<g id=\"node22\" class=\"node\">\n<title>23</title>\n<polygon fill=\"#e48038\" stroke=\"#000000\" points=\"1365.5,-36 1234.5,-36 1234.5,0 1365.5,0 1365.5,-36\"/>\n<text text-anchor=\"middle\" x=\"1300\" y=\"-14.3\" font-family=\"Times,serif\" font-size=\"14.00\" fill=\"#000000\">leaf=0.0583333336</text>\n</g>\n<!-- 12&#45;&gt;23 -->\n<g id=\"edge21\" class=\"edge\">\n<title>12&#45;&gt;23</title>\n<path fill=\"none\" stroke=\"#0000ff\" d=\"M1315.0632,-86.9735C1312.4902,-75.1918 1309.0765,-59.5607 1306.1495,-46.1581\"/>\n<polygon fill=\"#0000ff\" stroke=\"#0000ff\" points=\"1309.4849,-45.0263 1303.9318,-36.0034 1302.6461,-46.5199 1309.4849,-45.0263\"/>\n<text text-anchor=\"middle\" x=\"1346.5\" y=\"-57.8\" font-family=\"Times,serif\" font-size=\"14.00\" fill=\"#000000\">yes, missing</text>\n</g>\n<!-- 24 -->\n<g id=\"node23\" class=\"node\">\n<title>24</title>\n<polygon fill=\"#e48038\" stroke=\"#000000\" points=\"1520,-36 1384,-36 1384,0 1520,0 1520,-36\"/>\n<text text-anchor=\"middle\" x=\"1452\" y=\"-14.3\" font-family=\"Times,serif\" font-size=\"14.00\" fill=\"#000000\">leaf=&#45;0.0135338353</text>\n</g>\n<!-- 12&#45;&gt;24 -->\n<g id=\"edge22\" class=\"edge\">\n<title>12&#45;&gt;24</title>\n<path fill=\"none\" stroke=\"#ff0000\" d=\"M1355.4446,-86.8215C1365.537,-81.4126 1376.3622,-75.2522 1386,-69 1398.2945,-61.0244 1411.183,-51.3843 1422.2744,-42.6423\"/>\n<polygon fill=\"#ff0000\" stroke=\"#ff0000\" points=\"1424.7399,-45.1522 1430.3661,-36.1746 1420.3694,-39.6842 1424.7399,-45.1522\"/>\n<text text-anchor=\"middle\" x=\"1415\" y=\"-57.8\" font-family=\"Times,serif\" font-size=\"14.00\" fill=\"#000000\">no</text>\n</g>\n<!-- 25 -->\n<g id=\"node26\" class=\"node\">\n<title>25</title>\n<polygon fill=\"#e48038\" stroke=\"#000000\" points=\"1669.5,-36 1538.5,-36 1538.5,0 1669.5,0 1669.5,-36\"/>\n<text text-anchor=\"middle\" x=\"1604\" y=\"-14.3\" font-family=\"Times,serif\" font-size=\"14.00\" fill=\"#000000\">leaf=0.0559523813</text>\n</g>\n<!-- 13&#45;&gt;25 -->\n<g id=\"edge25\" class=\"edge\">\n<title>13&#45;&gt;25</title>\n<path fill=\"none\" stroke=\"#0000ff\" d=\"M1645.2256,-86.9735C1637.9744,-74.8418 1628.2838,-58.6287 1620.1199,-44.9698\"/>\n<polygon fill=\"#0000ff\" stroke=\"#0000ff\" points=\"1622.8954,-42.7913 1614.7606,-36.0034 1616.8868,-46.3827 1622.8954,-42.7913\"/>\n<text text-anchor=\"middle\" x=\"1669.5\" y=\"-57.8\" font-family=\"Times,serif\" font-size=\"14.00\" fill=\"#000000\">yes, missing</text>\n</g>\n<!-- 26 -->\n<g id=\"node27\" class=\"node\">\n<title>26</title>\n<polygon fill=\"#e48038\" stroke=\"#000000\" points=\"1826.5,-36 1687.5,-36 1687.5,0 1826.5,0 1826.5,-36\"/>\n<text text-anchor=\"middle\" x=\"1757\" y=\"-14.3\" font-family=\"Times,serif\" font-size=\"14.00\" fill=\"#000000\">leaf=0.00694980705</text>\n</g>\n<!-- 13&#45;&gt;26 -->\n<g id=\"edge26\" class=\"edge\">\n<title>13&#45;&gt;26</title>\n<path fill=\"none\" stroke=\"#ff0000\" d=\"M1685.1705,-86.8578C1693.1574,-81.4492 1701.6371,-75.2799 1709,-69 1717.9245,-61.3883 1726.939,-52.2712 1734.7084,-43.8641\"/>\n<polygon fill=\"#ff0000\" stroke=\"#ff0000\" points=\"1737.3418,-46.1702 1741.4552,-36.4064 1732.1509,-41.474 1737.3418,-46.1702\"/>\n<text text-anchor=\"middle\" x=\"1733\" y=\"-57.8\" font-family=\"Times,serif\" font-size=\"14.00\" fill=\"#000000\">no</text>\n</g>\n<!-- 27 -->\n<g id=\"node28\" class=\"node\">\n<title>27</title>\n<polygon fill=\"#e48038\" stroke=\"#000000\" points=\"1969,-36 1845,-36 1845,0 1969,0 1969,-36\"/>\n<text text-anchor=\"middle\" x=\"1907\" y=\"-14.3\" font-family=\"Times,serif\" font-size=\"14.00\" fill=\"#000000\">leaf=0.128441259</text>\n</g>\n<!-- 14&#45;&gt;27 -->\n<g id=\"edge27\" class=\"edge\">\n<title>14&#45;&gt;27</title>\n<path fill=\"none\" stroke=\"#0000ff\" d=\"M1907,-86.9735C1907,-75.1918 1907,-59.5607 1907,-46.1581\"/>\n<polygon fill=\"#0000ff\" stroke=\"#0000ff\" points=\"1910.5001,-46.0033 1907,-36.0034 1903.5001,-46.0034 1910.5001,-46.0033\"/>\n<text text-anchor=\"middle\" x=\"1942.5\" y=\"-57.8\" font-family=\"Times,serif\" font-size=\"14.00\" fill=\"#000000\">yes, missing</text>\n</g>\n<!-- 28 -->\n<g id=\"node29\" class=\"node\">\n<title>28</title>\n<polygon fill=\"#e48038\" stroke=\"#000000\" points=\"2118.5,-36 1987.5,-36 1987.5,0 2118.5,0 2118.5,-36\"/>\n<text text-anchor=\"middle\" x=\"2053\" y=\"-14.3\" font-family=\"Times,serif\" font-size=\"14.00\" fill=\"#000000\">leaf=0.0793339834</text>\n</g>\n<!-- 14&#45;&gt;28 -->\n<g id=\"edge28\" class=\"edge\">\n<title>14&#45;&gt;28</title>\n<path fill=\"none\" stroke=\"#ff0000\" d=\"M1948.1602,-86.8395C1959.3461,-81.4765 1971.3159,-75.3351 1982,-69 1995.5767,-60.9498 2009.8401,-51.0234 2021.9915,-42.0738\"/>\n<polygon fill=\"#ff0000\" stroke=\"#ff0000\" points=\"2024.1142,-44.8569 2030.0323,-36.0691 2019.9257,-39.2483 2024.1142,-44.8569\"/>\n<text text-anchor=\"middle\" x=\"2012\" y=\"-57.8\" font-family=\"Times,serif\" font-size=\"14.00\" fill=\"#000000\">no</text>\n</g>\n</g>\n</svg>\n"
          },
          "metadata": {},
          "execution_count": 109
        }
      ]
    }
  ]
}